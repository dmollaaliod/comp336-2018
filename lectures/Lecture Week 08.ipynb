{
 "cells": [
  {
   "cell_type": "markdown",
   "metadata": {},
   "source": [
    "# Filtering Streams\n",
    "The following code illustrates how we can use hashes to test membership in a list."
   ]
  },
  {
   "cell_type": "code",
   "execution_count": 1,
   "metadata": {
    "collapsed": true
   },
   "outputs": [],
   "source": [
    "import numpy as np"
   ]
  },
  {
   "cell_type": "code",
   "execution_count": 2,
   "metadata": {
    "collapsed": true
   },
   "outputs": [],
   "source": [
    "def my_hash(item, nbuckets):\n",
    "    \"Return a hash value between 0 and nbuckets - 1\"\n",
    "    return hash(item) % nbuckets"
   ]
  },
  {
   "cell_type": "code",
   "execution_count": 3,
   "metadata": {
    "collapsed": false
   },
   "outputs": [
    {
     "data": {
      "text/plain": [
       "951"
      ]
     },
     "execution_count": 3,
     "metadata": {},
     "output_type": "execute_result"
    }
   ],
   "source": [
    "my_hash(\"Peter\", 1000)"
   ]
  },
  {
   "cell_type": "code",
   "execution_count": 4,
   "metadata": {
    "collapsed": false
   },
   "outputs": [
    {
     "data": {
      "text/plain": [
       "235"
      ]
     },
     "execution_count": 4,
     "metadata": {},
     "output_type": "execute_result"
    }
   ],
   "source": [
    "my_hash(\"Mary\", 1000)"
   ]
  },
  {
   "cell_type": "code",
   "execution_count": 5,
   "metadata": {
    "collapsed": false
   },
   "outputs": [
    {
     "data": {
      "text/plain": [
       "173"
      ]
     },
     "execution_count": 5,
     "metadata": {},
     "output_type": "execute_result"
    }
   ],
   "source": [
    "my_hash('Susan', 1000)"
   ]
  },
  {
   "cell_type": "code",
   "execution_count": 6,
   "metadata": {
    "collapsed": false
   },
   "outputs": [
    {
     "data": {
      "text/plain": [
       "542"
      ]
     },
     "execution_count": 6,
     "metadata": {},
     "output_type": "execute_result"
    }
   ],
   "source": [
    "my_hash('John', 1000)"
   ]
  },
  {
   "cell_type": "code",
   "execution_count": 7,
   "metadata": {
    "collapsed": true
   },
   "outputs": [],
   "source": [
    "# Building the filter\n",
    "NBUCKETS = 1000\n",
    "S = ['John', 'Mary', 'Peter', 'Susan']\n",
    "hash_filter = np.zeros(NBUCKETS, dtype=np.bool)\n",
    "for s in S:\n",
    "    hash_filter[my_hash(s, NBUCKETS)] = True"
   ]
  },
  {
   "cell_type": "code",
   "execution_count": 8,
   "metadata": {
    "collapsed": true
   },
   "outputs": [],
   "source": [
    "# Testing the filter\n",
    "def in_filter(item):\n",
    "    \"Return True if the item is in the filter\"\n",
    "    return hash_filter[my_hash(item, NBUCKETS)]"
   ]
  },
  {
   "cell_type": "code",
   "execution_count": 9,
   "metadata": {
    "collapsed": false
   },
   "outputs": [
    {
     "data": {
      "text/plain": [
       "True"
      ]
     },
     "execution_count": 9,
     "metadata": {},
     "output_type": "execute_result"
    }
   ],
   "source": [
    "in_filter(\"John\")"
   ]
  },
  {
   "cell_type": "code",
   "execution_count": 10,
   "metadata": {
    "collapsed": false
   },
   "outputs": [
    {
     "data": {
      "text/plain": [
       "False"
      ]
     },
     "execution_count": 10,
     "metadata": {},
     "output_type": "execute_result"
    }
   ],
   "source": [
    "in_filter(\"Diego\")"
   ]
  },
  {
   "cell_type": "markdown",
   "metadata": {},
   "source": [
    "## Bloom Filter\n",
    "The following code implements a Bloom filter"
   ]
  },
  {
   "cell_type": "code",
   "execution_count": 11,
   "metadata": {
    "collapsed": false
   },
   "outputs": [
    {
     "data": {
      "text/plain": [
       "821"
      ]
     },
     "execution_count": 11,
     "metadata": {},
     "output_type": "execute_result"
    }
   ],
   "source": [
    "my_hash((\"John\", 0), 1000)"
   ]
  },
  {
   "cell_type": "code",
   "execution_count": 12,
   "metadata": {
    "collapsed": false
   },
   "outputs": [
    {
     "data": {
      "text/plain": [
       "346"
      ]
     },
     "execution_count": 12,
     "metadata": {},
     "output_type": "execute_result"
    }
   ],
   "source": [
    "my_hash((\"John\", 1), 1000)"
   ]
  },
  {
   "cell_type": "code",
   "execution_count": 13,
   "metadata": {
    "collapsed": true
   },
   "outputs": [],
   "source": [
    "# Building the filter\n",
    "K = 5 # We use 5 independent hash functions\n",
    "NBUCKETS = 1000\n",
    "S = ['John', 'Mary', 'Peter', 'Susan']\n",
    "hash_filter = np.zeros(NBUCKETS, dtype=np.bool)\n",
    "for s in S:\n",
    "    for k in range(K):\n",
    "        hash_filter[my_hash((s, k), NBUCKETS)] = True"
   ]
  },
  {
   "cell_type": "code",
   "execution_count": 14,
   "metadata": {
    "collapsed": true
   },
   "outputs": [],
   "source": [
    "# Testing the filter\n",
    "def in_filter(item):\n",
    "    \"Return True if the item is in the filter\"\n",
    "    result = True\n",
    "    for k in range(K):\n",
    "        result = result and hash_filter[my_hash((item, k), NBUCKETS)]\n",
    "    return result"
   ]
  },
  {
   "cell_type": "code",
   "execution_count": 15,
   "metadata": {
    "collapsed": false
   },
   "outputs": [
    {
     "data": {
      "text/plain": [
       "True"
      ]
     },
     "execution_count": 15,
     "metadata": {},
     "output_type": "execute_result"
    }
   ],
   "source": [
    "in_filter('John')"
   ]
  },
  {
   "cell_type": "code",
   "execution_count": 16,
   "metadata": {
    "collapsed": false
   },
   "outputs": [
    {
     "data": {
      "text/plain": [
       "False"
      ]
     },
     "execution_count": 16,
     "metadata": {},
     "output_type": "execute_result"
    }
   ],
   "source": [
    "in_filter('Diego')"
   ]
  },
  {
   "cell_type": "markdown",
   "metadata": {},
   "source": [
    "# The Flajolet-Martin Algorithm\n",
    "The following algorithm estimates the count of distinct items."
   ]
  },
  {
   "cell_type": "code",
   "execution_count": 17,
   "metadata": {
    "collapsed": true
   },
   "outputs": [],
   "source": [
    "NBUCKETS = 2**32\n",
    "def tail_length(item):\n",
    "    \"Return the tail length of the hash of the item\"\n",
    "    s = bin(hash(item) % NBUCKETS)\n",
    "    return len(s) - len(s.rstrip('0'))"
   ]
  },
  {
   "cell_type": "code",
   "execution_count": 18,
   "metadata": {
    "collapsed": false
   },
   "outputs": [
    {
     "name": "stdout",
     "output_type": "stream",
     "text": [
      "0b10011011001001010001101000000110\n",
      "1\n"
     ]
    }
   ],
   "source": [
    "print(bin(hash(\"Phillip\") % NBUCKETS))\n",
    "print(tail_length(\"Phillip\"))"
   ]
  },
  {
   "cell_type": "code",
   "execution_count": 19,
   "metadata": {
    "collapsed": false
   },
   "outputs": [
    {
     "data": {
      "text/plain": [
       "4294967296"
      ]
     },
     "execution_count": 19,
     "metadata": {},
     "output_type": "execute_result"
    }
   ],
   "source": [
    "2**32"
   ]
  },
  {
   "cell_type": "markdown",
   "metadata": {},
   "source": [
    "With one hash function"
   ]
  },
  {
   "cell_type": "code",
   "execution_count": 20,
   "metadata": {
    "collapsed": true
   },
   "outputs": [],
   "source": [
    "def count_distinct(stream):\n",
    "    maxR = 0\n",
    "    for s in stream:\n",
    "        r = tail_length(s)\n",
    "        if r > maxR:\n",
    "            maxR = r\n",
    "    return 2**maxR"
   ]
  },
  {
   "cell_type": "markdown",
   "metadata": {},
   "source": [
    "Let's estimate the number of distinct words in the Brown corpus"
   ]
  },
  {
   "cell_type": "code",
   "execution_count": 21,
   "metadata": {
    "collapsed": false
   },
   "outputs": [
    {
     "name": "stdout",
     "output_type": "stream",
     "text": [
      "[nltk_data] Downloading package brown to /root/nltk_data...\n",
      "[nltk_data]   Unzipping corpora/brown.zip.\n"
     ]
    },
    {
     "data": {
      "text/plain": [
       "1161192"
      ]
     },
     "execution_count": 21,
     "metadata": {},
     "output_type": "execute_result"
    }
   ],
   "source": [
    "import nltk\n",
    "nltk.download('brown')\n",
    "words = nltk.corpus.brown.words()\n",
    "len(words)"
   ]
  },
  {
   "cell_type": "code",
   "execution_count": 22,
   "metadata": {
    "collapsed": false
   },
   "outputs": [
    {
     "data": {
      "text/plain": [
       "4096"
      ]
     },
     "execution_count": 22,
     "metadata": {},
     "output_type": "execute_result"
    }
   ],
   "source": [
    "count_distinct(words[:10000])"
   ]
  },
  {
   "cell_type": "markdown",
   "metadata": {},
   "source": [
    "Compare with a brute force exact count:"
   ]
  },
  {
   "cell_type": "code",
   "execution_count": 23,
   "metadata": {
    "collapsed": false
   },
   "outputs": [
    {
     "data": {
      "text/plain": [
       "2690"
      ]
     },
     "execution_count": 23,
     "metadata": {},
     "output_type": "execute_result"
    }
   ],
   "source": [
    "len(set(words[:10000]))"
   ]
  },
  {
   "cell_type": "markdown",
   "metadata": {},
   "source": [
    "Variant using multiple hash functions"
   ]
  },
  {
   "cell_type": "code",
   "execution_count": 24,
   "metadata": {
    "collapsed": true
   },
   "outputs": [],
   "source": [
    "%matplotlib inline\n",
    "from matplotlib import pyplot as plt\n",
    "\n",
    "K = 256 # number of distinct hashes\n",
    "G = 16  # size of each group of hashes\n",
    "assert K % G == 0 # Check that K is divisible by G\n",
    "\n",
    "def count_distinct(stream):\n",
    "    maxR = np.zeros(K) # Initialise all R for all hashes to zero \n",
    "    \n",
    "    # 1. Compute R for each hash\n",
    "    print(\"Step 1\")\n",
    "    for s in stream:\n",
    "        for h in range(K):\n",
    "            r = tail_length((s, h))\n",
    "            if r > maxR[h]:\n",
    "                maxR[h] = r\n",
    "                \n",
    "    plt.hist(maxR)\n",
    "                \n",
    "    # 2. Combine all R\n",
    "    print(\"Step 2\")\n",
    "    Counts = []\n",
    "    for group in range(K//G):\n",
    "        groupCounts = []\n",
    "        for h in range(G):\n",
    "            groupCounts.append(2**maxR[group*G + h])\n",
    "        Counts.append(np.median(groupCounts))\n",
    "    return(np.mean(Counts))"
   ]
  },
  {
   "cell_type": "code",
   "execution_count": 25,
   "metadata": {
    "collapsed": false
   },
   "outputs": [
    {
     "name": "stdout",
     "output_type": "stream",
     "text": [
      "Step 1\n",
      "Step 2\n"
     ]
    },
    {
     "data": {
      "text/plain": [
       "2752.0"
      ]
     },
     "execution_count": 25,
     "metadata": {},
     "output_type": "execute_result"
    },
    {
     "data": {
      "image/png": "[encoded data removed]",
      "text/plain": [
       "<matplotlib.figure.Figure at 0x7fa4696e7400>"
      ]
     },
     "metadata": {},
     "output_type": "display_data"
    }
   ],
   "source": [
    "count_distinct(words[:10000])"
   ]
  },
  {
   "cell_type": "code",
   "execution_count": 26,
   "metadata": {
    "collapsed": false
   },
   "outputs": [
    {
     "data": {
      "text/plain": [
       "4.0"
      ]
     },
     "execution_count": 26,
     "metadata": {},
     "output_type": "execute_result"
    }
   ],
   "source": [
    "np.mean([1,2,3,4,10])"
   ]
  },
  {
   "cell_type": "code",
   "execution_count": 27,
   "metadata": {
    "collapsed": false
   },
   "outputs": [
    {
     "data": {
      "text/plain": [
       "3.0"
      ]
     },
     "execution_count": 27,
     "metadata": {},
     "output_type": "execute_result"
    }
   ],
   "source": [
    "np.median([1,2,3,4,10])"
   ]
  },
  {
   "cell_type": "markdown",
   "metadata": {
    "collapsed": true
   },
   "source": [
    "## More Streams\n",
    "The following code shows some simple processing of streams by answering some of the questions from the lectures -- week 8, page 4. The queries are related to a stream of recordings from a temperature sensor."
   ]
  },
  {
   "cell_type": "markdown",
   "metadata": {},
   "source": [
    "### Alert when the temperature exceeds 25 degrees\n",
    "This is a very simple case that does not need to keep any working storage."
   ]
  },
  {
   "cell_type": "code",
   "execution_count": 28,
   "metadata": {
    "collapsed": true
   },
   "outputs": [],
   "source": [
    "class ProcessStream:\n",
    "    def step(self, s):\n",
    "        if s >= 25:\n",
    "            print(\"Alert: Temperature is %f\" % s)          "
   ]
  },
  {
   "cell_type": "markdown",
   "metadata": {},
   "source": [
    "Below is an example of the stream at work with some simulated data. The data have been obtained from http://www.bom.gov.au/climate/data/"
   ]
  },
  {
   "cell_type": "code",
   "execution_count": 29,
   "metadata": {
    "collapsed": false
   },
   "outputs": [],
   "source": [
    "import csv\n",
    "def temperature_sensor():\n",
    "    with open('temperature_sensor/IDCJAC0010_066062_1800_Data.csv') as f:\n",
    "        reader = csv.DictReader(f)\n",
    "        for line in reader:\n",
    "            yield float(line['Maximum temperature (Degree C)'])"
   ]
  },
  {
   "cell_type": "code",
   "execution_count": 30,
   "metadata": {
    "collapsed": false
   },
   "outputs": [
    {
     "name": "stdout",
     "output_type": "stream",
     "text": [
      "Alert: Temperature is 25.100000\n",
      "Alert: Temperature is 33.900000\n",
      "Alert: Temperature is 27.200000\n",
      "Alert: Temperature is 28.600000\n",
      "Alert: Temperature is 27.300000\n",
      "Alert: Temperature is 25.400000\n",
      "Alert: Temperature is 33.100000\n",
      "Alert: Temperature is 36.900000\n",
      "Alert: Temperature is 25.800000\n",
      "Alert: Temperature is 26.900000\n",
      "Alert: Temperature is 25.600000\n",
      "Alert: Temperature is 25.900000\n",
      "Alert: Temperature is 25.600000\n",
      "Alert: Temperature is 25.000000\n",
      "Alert: Temperature is 26.900000\n",
      "Alert: Temperature is 27.200000\n",
      "Alert: Temperature is 35.600000\n",
      "Alert: Temperature is 32.300000\n",
      "Alert: Temperature is 26.800000\n",
      "Alert: Temperature is 26.200000\n",
      "Alert: Temperature is 32.800000\n",
      "Alert: Temperature is 28.600000\n",
      "Alert: Temperature is 25.400000\n",
      "Alert: Temperature is 26.500000\n",
      "Alert: Temperature is 25.900000\n",
      "Alert: Temperature is 25.000000\n",
      "Alert: Temperature is 26.700000\n",
      "Alert: Temperature is 25.000000\n",
      "Alert: Temperature is 28.200000\n",
      "Alert: Temperature is 25.300000\n",
      "Alert: Temperature is 25.000000\n",
      "Alert: Temperature is 26.000000\n",
      "Alert: Temperature is 30.300000\n",
      "Alert: Temperature is 25.700000\n",
      "Alert: Temperature is 26.900000\n",
      "Alert: Temperature is 30.400000\n",
      "Alert: Temperature is 28.000000\n",
      "Alert: Temperature is 31.100000\n",
      "Alert: Temperature is 26.200000\n",
      "Alert: Temperature is 26.400000\n"
     ]
    }
   ],
   "source": [
    "t = temperature_sensor()\n",
    "stream_processor = ProcessStream()\n",
    "for i in range(100):\n",
    "    stream_processor.step(next(t))"
   ]
  },
  {
   "cell_type": "markdown",
   "metadata": {},
   "source": [
    "### Average the 24 most recent readings\n",
    "The working storage will need to keep track of the 24 most recent readings. When a new reading comes, the last reading will need to be dropped from the list."
   ]
  },
  {
   "cell_type": "code",
   "execution_count": 31,
   "metadata": {
    "collapsed": true
   },
   "outputs": [],
   "source": [
    "import numpy as np\n",
    "class ProcessStream():\n",
    "    past_readings = []\n",
    "    def step(self, s):\n",
    "        if len(self.past_readings) >= 24:\n",
    "            self.past_readings = self.past_readings[1:]\n",
    "        self.past_readings.append(s)\n",
    "        return(np.mean(self.past_readings))    "
   ]
  },
  {
   "cell_type": "code",
   "execution_count": 32,
   "metadata": {
    "collapsed": false
   },
   "outputs": [
    {
     "name": "stdout",
     "output_type": "stream",
     "text": [
      "Average: 24.400000\n",
      "Average: 24.400000\n",
      "Average: 24.333333\n",
      "Average: 24.425000\n",
      "Average: 24.460000\n",
      "Average: 24.083333\n",
      "Average: 24.171429\n",
      "Average: 24.287500\n",
      "Average: 25.355556\n",
      "Average: 25.540000\n",
      "Average: 25.818182\n",
      "Average: 25.941667\n",
      "Average: 25.800000\n",
      "Average: 25.771429\n",
      "Average: 25.640000\n",
      "Average: 25.562500\n",
      "Average: 26.005882\n",
      "Average: 26.611111\n",
      "Average: 26.568421\n",
      "Average: 26.410000\n",
      "Average: 26.285714\n",
      "Average: 26.154545\n",
      "Average: 26.186957\n",
      "Average: 26.162500\n",
      "Average: 26.170833\n",
      "Average: 26.187500\n",
      "Average: 26.216667\n",
      "Average: 26.266667\n",
      "Average: 26.308333\n",
      "Average: 26.316667\n",
      "Average: 26.145833\n",
      "Average: 26.029167\n",
      "Average: 25.562500\n",
      "Average: 25.400000\n",
      "Average: 25.250000\n",
      "Average: 25.233333\n",
      "Average: 25.362500\n",
      "Average: 25.787500\n",
      "Average: 26.141667\n",
      "Average: 26.241667\n",
      "Average: 25.954167\n",
      "Average: 25.412500\n",
      "Average: 25.704167\n",
      "Average: 25.920833\n",
      "Average: 25.987500\n",
      "Average: 26.116667\n",
      "Average: 25.925000\n",
      "Average: 25.708333\n",
      "Average: 25.512500\n",
      "Average: 25.450000\n",
      "Average: 25.433333\n",
      "Average: 25.337500\n",
      "Average: 25.350000\n",
      "Average: 25.387500\n",
      "Average: 25.570833\n",
      "Average: 25.754167\n",
      "Average: 25.850000\n",
      "Average: 25.837500\n",
      "Average: 25.729167\n",
      "Average: 25.612500\n",
      "Average: 25.654167\n",
      "Average: 25.225000\n",
      "Average: 24.870833\n",
      "Average: 24.704167\n",
      "Average: 24.654167\n",
      "Average: 24.620833\n",
      "Average: 24.337500\n",
      "Average: 24.137500\n",
      "Average: 24.341667\n",
      "Average: 24.308333\n",
      "Average: 24.500000\n",
      "Average: 24.675000\n",
      "Average: 24.762500\n",
      "Average: 24.729167\n",
      "Average: 24.491667\n",
      "Average: 24.395833\n",
      "Average: 24.258333\n",
      "Average: 24.241667\n",
      "Average: 24.162500\n",
      "Average: 24.087500\n",
      "Average: 24.012500\n",
      "Average: 24.054167\n",
      "Average: 24.104167\n",
      "Average: 24.104167\n",
      "Average: 23.904167\n",
      "Average: 23.820833\n",
      "Average: 23.812500\n",
      "Average: 23.825000\n",
      "Average: 23.750000\n",
      "Average: 24.054167\n",
      "Average: 24.137500\n",
      "Average: 24.095833\n",
      "Average: 24.129167\n",
      "Average: 24.150000\n",
      "Average: 24.004167\n",
      "Average: 24.079167\n",
      "Average: 24.125000\n",
      "Average: 24.100000\n",
      "Average: 24.312500\n",
      "Average: 24.420833\n"
     ]
    }
   ],
   "source": [
    "t = temperature_sensor()\n",
    "stream_processor = ProcessStream()\n",
    "for i in range(100):\n",
    "    avg = stream_processor.step(next(t))\n",
    "    print(\"Average: %f\" % avg)"
   ]
  },
  {
   "cell_type": "markdown",
   "metadata": {},
   "source": [
    "### Average temperature from the beginning of the stream\n",
    "We cannot store all past records since the size of the stream is potentially infinite. But we can keep the sum and count in working storage and with this information compute the average."
   ]
  },
  {
   "cell_type": "code",
   "execution_count": 33,
   "metadata": {
    "collapsed": true
   },
   "outputs": [],
   "source": [
    "class ProcessStream():\n",
    "    past_sum = 0\n",
    "    past_count = 0\n",
    "    def step(self, s):\n",
    "        self.past_sum += s\n",
    "        self.past_count += 1\n",
    "        return(self.past_sum / self.past_count)"
   ]
  },
  {
   "cell_type": "code",
   "execution_count": 34,
   "metadata": {
    "collapsed": false
   },
   "outputs": [
    {
     "name": "stdout",
     "output_type": "stream",
     "text": [
      "Average: 24.400000\n",
      "Average: 24.400000\n",
      "Average: 24.333333\n",
      "Average: 24.425000\n",
      "Average: 24.460000\n",
      "Average: 24.083333\n",
      "Average: 24.171429\n",
      "Average: 24.287500\n",
      "Average: 25.355556\n",
      "Average: 25.540000\n",
      "Average: 25.818182\n",
      "Average: 25.941667\n",
      "Average: 25.800000\n",
      "Average: 25.771429\n",
      "Average: 25.640000\n",
      "Average: 25.562500\n",
      "Average: 26.005882\n",
      "Average: 26.611111\n",
      "Average: 26.568421\n",
      "Average: 26.410000\n",
      "Average: 26.285714\n",
      "Average: 26.154545\n",
      "Average: 26.186957\n",
      "Average: 26.162500\n",
      "Average: 26.100000\n",
      "Average: 26.050000\n",
      "Average: 26.007407\n",
      "Average: 26.003571\n",
      "Average: 25.989655\n",
      "Average: 25.870000\n",
      "Average: 25.700000\n",
      "Average: 25.593750\n",
      "Average: 25.506061\n",
      "Average: 25.441176\n",
      "Average: 25.428571\n",
      "Average: 25.469444\n",
      "Average: 25.516216\n",
      "Average: 25.781579\n",
      "Average: 25.948718\n",
      "Average: 25.970000\n",
      "Average: 25.975610\n",
      "Average: 25.926190\n",
      "Average: 26.086047\n",
      "Average: 26.143182\n",
      "Average: 26.126667\n",
      "Average: 26.134783\n",
      "Average: 26.053191\n",
      "Average: 25.935417\n",
      "Average: 25.812245\n",
      "Average: 25.762000\n",
      "Average: 25.737255\n",
      "Average: 25.696154\n",
      "Average: 25.700000\n",
      "Average: 25.655556\n",
      "Average: 25.643636\n",
      "Average: 25.662500\n",
      "Average: 25.650877\n",
      "Average: 25.605172\n",
      "Average: 25.550847\n",
      "Average: 25.526667\n",
      "Average: 25.570492\n",
      "Average: 25.566129\n",
      "Average: 25.538095\n",
      "Average: 25.495313\n",
      "Average: 25.487692\n",
      "Average: 25.451515\n",
      "Average: 25.459701\n",
      "Average: 25.435294\n",
      "Average: 25.505797\n",
      "Average: 25.508571\n",
      "Average: 25.528169\n",
      "Average: 25.515278\n",
      "Average: 25.467123\n",
      "Average: 25.427027\n",
      "Average: 25.338667\n",
      "Average: 25.285526\n",
      "Average: 25.250649\n",
      "Average: 25.220513\n",
      "Average: 25.193671\n",
      "Average: 25.190000\n",
      "Average: 25.165432\n",
      "Average: 25.151220\n",
      "Average: 25.132530\n",
      "Average: 25.120238\n",
      "Average: 25.100000\n",
      "Average: 25.079070\n",
      "Average: 25.062069\n",
      "Average: 25.039773\n",
      "Average: 25.019101\n",
      "Average: 25.078889\n",
      "Average: 25.110989\n",
      "Average: 25.085870\n",
      "Average: 25.150538\n",
      "Average: 25.161702\n",
      "Average: 25.143158\n",
      "Average: 25.156250\n",
      "Average: 25.135052\n",
      "Average: 25.102041\n",
      "Average: 25.089899\n",
      "Average: 25.078000\n"
     ]
    }
   ],
   "source": [
    "t = temperature_sensor()\n",
    "stream_processor = ProcessStream()\n",
    "for i in range(100):\n",
    "    avg = stream_processor.step(next(t))\n",
    "    print(\"Average: %f\" % avg)"
   ]
  },
  {
   "cell_type": "code",
   "execution_count": null,
   "metadata": {
    "collapsed": true
   },
   "outputs": [],
   "source": []
  }
 ],
 "metadata": {
  "kernelspec": {
   "display_name": "Python 3",
   "language": "python",
   "name": "python3"
  },
  "language_info": {
   "codemirror_mode": {
    "name": "ipython",
    "version": 3
   },
   "file_extension": ".py",
   "mimetype": "text/x-python",
   "name": "python",
   "nbconvert_exporter": "python",
   "pygments_lexer": "ipython3",
   "version": "3.6.0"
  }
 },
 "nbformat": 4,
 "nbformat_minor": 2
}
