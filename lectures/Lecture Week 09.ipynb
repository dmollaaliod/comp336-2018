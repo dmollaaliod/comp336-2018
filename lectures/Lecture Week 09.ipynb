{
 "cells": [
  {
   "cell_type": "markdown",
   "metadata": {},
   "source": [
    "# PageRank without Teleporting"
   ]
  },
  {
   "cell_type": "code",
   "execution_count": 1,
   "metadata": {
    "collapsed": true
   },
   "outputs": [],
   "source": [
    "% matplotlib inline\n",
    "import numpy as np\n",
    "from matplotlib import pyplot as plt"
   ]
  },
  {
   "cell_type": "code",
   "execution_count": 2,
   "metadata": {
    "collapsed": true
   },
   "outputs": [],
   "source": [
    "M = np.array([[0, 1/2, 1, 0],\n",
    "              [1/3, 0, 0, 1/2],\n",
    "              [1/3, 0 ,0 ,1/2],\n",
    "              [1/3, 1/2, 0, 0]])"
   ]
  },
  {
   "cell_type": "markdown",
   "metadata": {},
   "source": [
    "The following code shows the transition from node B to all other nodes of the network."
   ]
  },
  {
   "cell_type": "code",
   "execution_count": 3,
   "metadata": {
    "collapsed": false
   },
   "outputs": [
    {
     "data": {
      "text/plain": [
       "array([[ 0.5],\n",
       "       [ 0. ],\n",
       "       [ 0. ],\n",
       "       [ 0.5]])"
      ]
     },
     "execution_count": 3,
     "metadata": {},
     "output_type": "execute_result"
    }
   ],
   "source": [
    "np.dot(M, np.array([[0],\n",
    "              [1],\n",
    "              [0],\n",
    "              [0]]))"
   ]
  },
  {
   "cell_type": "markdown",
   "metadata": {},
   "source": [
    "The following code computes PageRank (version 1)."
   ]
  },
  {
   "cell_type": "code",
   "execution_count": 4,
   "metadata": {
    "collapsed": true
   },
   "outputs": [],
   "source": [
    "PR = np.array([[1/4],\n",
    "               [1/4],\n",
    "               [1/4],\n",
    "               [1/4]])"
   ]
  },
  {
   "cell_type": "code",
   "execution_count": 5,
   "metadata": {
    "collapsed": false
   },
   "outputs": [
    {
     "data": {
      "text/plain": [
       "array([[ 0.375     ],\n",
       "       [ 0.20833333],\n",
       "       [ 0.20833333],\n",
       "       [ 0.20833333]])"
      ]
     },
     "execution_count": 5,
     "metadata": {},
     "output_type": "execute_result"
    }
   ],
   "source": [
    "PR = np.dot(M,PR)\n",
    "PR"
   ]
  },
  {
   "cell_type": "code",
   "execution_count": 6,
   "metadata": {
    "collapsed": false
   },
   "outputs": [
    {
     "data": {
      "text/plain": [
       "array([[ 0.3125    ],\n",
       "       [ 0.22916667],\n",
       "       [ 0.22916667],\n",
       "       [ 0.22916667]])"
      ]
     },
     "execution_count": 6,
     "metadata": {},
     "output_type": "execute_result"
    }
   ],
   "source": [
    "PR = np.dot(M,PR)\n",
    "PR"
   ]
  },
  {
   "cell_type": "code",
   "execution_count": 7,
   "metadata": {
    "collapsed": false
   },
   "outputs": [
    {
     "data": {
      "text/plain": [
       "array([[ 0.34375],\n",
       "       [ 0.21875],\n",
       "       [ 0.21875],\n",
       "       [ 0.21875]])"
      ]
     },
     "execution_count": 7,
     "metadata": {},
     "output_type": "execute_result"
    }
   ],
   "source": [
    "PR = np.dot(M,PR)\n",
    "PR"
   ]
  },
  {
   "cell_type": "markdown",
   "metadata": {},
   "source": [
    "And so on. How long does it take to reach a stationary value?"
   ]
  },
  {
   "cell_type": "code",
   "execution_count": 8,
   "metadata": {
    "collapsed": false
   },
   "outputs": [
    {
     "name": "stdout",
     "output_type": "stream",
     "text": [
      "PR after 12 iterations:\n",
      "[[ 0.33331299]\n",
      " [ 0.222229  ]\n",
      " [ 0.222229  ]\n",
      " [ 0.222229  ]]\n"
     ]
    },
    {
     "data": {
      "image/png": "[encoded data removed]",
      "text/plain": [
       "<matplotlib.figure.Figure at 0x116a16630>"
      ]
     },
     "metadata": {},
     "output_type": "display_data"
    }
   ],
   "source": [
    "epsylon = 0.0001\n",
    "PR = np.array([[1/4],\n",
    "               [1/4],\n",
    "               [1/4],\n",
    "               [1/4]])\n",
    "iterations = 0\n",
    "oldPR = np.zeros((4,1))\n",
    "allPR = [PR]\n",
    "while max(np.abs(oldPR-PR)) > epsylon:\n",
    "    oldPR = PR\n",
    "    PR = np.dot(M, PR)\n",
    "    allPR.append(PR)\n",
    "    iterations += 1\n",
    "print(\"PR after %i iterations:\" % iterations)\n",
    "print(PR)\n",
    "for p in range(4):\n",
    "    data = [onePR[p,0] for onePR in allPR]\n",
    "    plt.plot(data)"
   ]
  },
  {
   "cell_type": "markdown",
   "metadata": {
    "collapsed": true
   },
   "source": [
    "## PageRank with a dead end"
   ]
  },
  {
   "cell_type": "code",
   "execution_count": 9,
   "metadata": {
    "collapsed": true
   },
   "outputs": [],
   "source": [
    "M = np.array([[0, 1/2, 0, 0],\n",
    "              [1/3, 0, 0, 1/2],\n",
    "              [1/3, 0 ,0 ,1/2],\n",
    "              [1/3, 1/2, 0, 0]])"
   ]
  },
  {
   "cell_type": "code",
   "execution_count": 11,
   "metadata": {
    "collapsed": false
   },
   "outputs": [
    {
     "name": "stdout",
     "output_type": "stream",
     "text": [
      "PR after 22 iterations:\n",
      "[[ 0.00018015]\n",
      " [ 0.00026256]\n",
      " [ 0.00026256]\n",
      " [ 0.00026256]]\n"
     ]
    },
    {
     "data": {
      "text/plain": [
       "<matplotlib.text.Text at 0x118fc76a0>"
      ]
     },
     "execution_count": 11,
     "metadata": {},
     "output_type": "execute_result"
    },
    {
     "data": {
      "image/png": "[encoded data removed]",
      "text/plain": [
       "<matplotlib.figure.Figure at 0x11903a5f8>"
      ]
     },
     "metadata": {},
     "output_type": "display_data"
    }
   ],
   "source": [
    "epsylon = 0.0001\n",
    "PR = np.array([[1/4],\n",
    "               [1/4],\n",
    "               [1/4],\n",
    "               [1/4]])\n",
    "iterations = 0\n",
    "oldPR = np.zeros((4,1))\n",
    "allPR = [PR]\n",
    "while max(np.abs(oldPR-PR)) > epsylon:\n",
    "    oldPR = PR\n",
    "    PR = np.dot(M, PR)\n",
    "    allPR.append(PR)\n",
    "    iterations += 1\n",
    "print(\"PR after %i iterations:\" % iterations)\n",
    "print(PR)\n",
    "for p in range(4):\n",
    "    data = [onePR[p,0] for onePR in allPR]\n",
    "    plt.plot(data)\n",
    "plt.xlabel(\"Iterations\")\n",
    "plt.ylabel(\"PageRank\")"
   ]
  },
  {
   "cell_type": "markdown",
   "metadata": {},
   "source": [
    "## Computing PageRank on a reduced strongly connected network\n",
    "The following transition matrix features dead end at node $E$ which needs to be removed."
   ]
  },
  {
   "cell_type": "code",
   "execution_count": 12,
   "metadata": {
    "collapsed": true
   },
   "outputs": [],
   "source": [
    "M = np.array([[0,  1/2, 0,  0, 0],\n",
    "              [1/3,  0, 0,1/2, 0],\n",
    "              [1/3,  0, 0,1/2, 0],\n",
    "              [1/3,1/2, 0,  0, 0],\n",
    "              [0,    0, 1,  0, 0]])"
   ]
  },
  {
   "cell_type": "markdown",
   "metadata": {},
   "source": [
    "The resulting transition matrix has now a dead end at node $C$, which also needs to be removed."
   ]
  },
  {
   "cell_type": "code",
   "execution_count": 13,
   "metadata": {
    "collapsed": true
   },
   "outputs": [],
   "source": [
    "M = np.array([[0,  1/2, 0,  0],\n",
    "              [1/3,  0, 0,1/2],\n",
    "              [1/3,  0, 0,1/2],\n",
    "              [1/3,1/2, 0,  0]])"
   ]
  },
  {
   "cell_type": "markdown",
   "metadata": {},
   "source": [
    "The resulting transition matrix after removing node $C$ is strongly connected. "
   ]
  },
  {
   "cell_type": "code",
   "execution_count": 21,
   "metadata": {
    "collapsed": true
   },
   "outputs": [],
   "source": [
    "M = np.array([[0,  1/2,  0],\n",
    "              [1/2,  0,  1],\n",
    "              [1/2,1/2,  0]])"
   ]
  },
  {
   "cell_type": "markdown",
   "metadata": {},
   "source": [
    "Now we can compute PageRank:"
   ]
  },
  {
   "cell_type": "code",
   "execution_count": 22,
   "metadata": {
    "collapsed": false
   },
   "outputs": [
    {
     "name": "stdout",
     "output_type": "stream",
     "text": [
      "PR after 12 iterations:\n",
      "[[ 0.22224935]\n",
      " [ 0.44441732]\n",
      " [ 0.33333333]]\n"
     ]
    },
    {
     "data": {
      "text/plain": [
       "<matplotlib.text.Text at 0x1193c7f28>"
      ]
     },
     "execution_count": 22,
     "metadata": {},
     "output_type": "execute_result"
    },
    {
     "data": {
      "image/png": "[encoded data removed]",
      "text/plain": [
       "<matplotlib.figure.Figure at 0x1195d7198>"
      ]
     },
     "metadata": {},
     "output_type": "display_data"
    }
   ],
   "source": [
    "epsylon = 0.0001\n",
    "PR = np.array([[1/3],\n",
    "               [1/3],\n",
    "               [1/3]])\n",
    "iterations = 0\n",
    "oldPR = np.zeros((3,1))\n",
    "allPR = [PR]\n",
    "while max(np.abs(oldPR-PR)) > epsylon:\n",
    "    oldPR = PR\n",
    "    PR = np.dot(M, PR)\n",
    "    allPR.append(PR)\n",
    "    iterations += 1\n",
    "print(\"PR after %i iterations:\" % iterations)\n",
    "print(PR)\n",
    "for p in range(3):\n",
    "    data = [onePR[p,0] for onePR in allPR]\n",
    "    plt.plot(data)\n",
    "plt.xlabel(\"Iterations\")\n",
    "plt.ylabel(\"PageRank\")"
   ]
  },
  {
   "cell_type": "markdown",
   "metadata": {},
   "source": [
    "And we can now compute the remaining PageRank scores:"
   ]
  },
  {
   "cell_type": "code",
   "execution_count": 24,
   "metadata": {
    "collapsed": false
   },
   "outputs": [
    {
     "name": "stdout",
     "output_type": "stream",
     "text": [
      "PR(C) =  0.240749782986\n"
     ]
    }
   ],
   "source": [
    "C = PR[0,0]/3 + PR[2,0]/2\n",
    "print(\"PR(C) = \", C)"
   ]
  },
  {
   "cell_type": "code",
   "execution_count": 25,
   "metadata": {
    "collapsed": false
   },
   "outputs": [
    {
     "name": "stdout",
     "output_type": "stream",
     "text": [
      "PR(E) =  0.240749782986\n"
     ]
    }
   ],
   "source": [
    "E = C\n",
    "print(\"PR(E) = \", E)"
   ]
  },
  {
   "cell_type": "markdown",
   "metadata": {},
   "source": [
    "## A one-node spider trap"
   ]
  },
  {
   "cell_type": "code",
   "execution_count": 26,
   "metadata": {
    "collapsed": true
   },
   "outputs": [],
   "source": [
    "M = np.array([[0,  1/2, 0,  0],\n",
    "              [1/3,  0, 0,1/2],\n",
    "              [1/3,  0, 1,1/2],\n",
    "              [1/3,1/2, 0,  0]])"
   ]
  },
  {
   "cell_type": "code",
   "execution_count": 27,
   "metadata": {
    "collapsed": false
   },
   "outputs": [
    {
     "name": "stdout",
     "output_type": "stream",
     "text": [
      "PR after 26 iterations:\n",
      "[[  5.08006382e-05]\n",
      " [  7.40382271e-05]\n",
      " [  9.99801123e-01]\n",
      " [  7.40382271e-05]]\n"
     ]
    },
    {
     "data": {
      "text/plain": [
       "<matplotlib.text.Text at 0x1197e8048>"
      ]
     },
     "execution_count": 27,
     "metadata": {},
     "output_type": "execute_result"
    },
    {
     "data": {
      "image/png": "[encoded data removed]",
      "text/plain": [
       "<matplotlib.figure.Figure at 0x1195462e8>"
      ]
     },
     "metadata": {},
     "output_type": "display_data"
    }
   ],
   "source": [
    "epsylon = 0.0001\n",
    "PR = np.array([[1/4],\n",
    "               [1/4],\n",
    "               [1/4],\n",
    "               [1/4]])\n",
    "iterations = 0\n",
    "oldPR = np.zeros((4,1))\n",
    "allPR = [PR]\n",
    "while max(np.abs(oldPR-PR)) > epsylon:\n",
    "    oldPR = PR\n",
    "    PR = np.dot(M, PR)\n",
    "    allPR.append(PR)\n",
    "    iterations += 1\n",
    "print(\"PR after %i iterations:\" % iterations)\n",
    "print(PR)\n",
    "for p in range(4):\n",
    "    data = [onePR[p,0] for onePR in allPR]\n",
    "    plt.plot(data)\n",
    "plt.xlabel(\"Iterations\")\n",
    "plt.ylabel(\"PageRank\")"
   ]
  },
  {
   "cell_type": "markdown",
   "metadata": {},
   "source": [
    "# PageRank with Teleporting"
   ]
  },
  {
   "cell_type": "markdown",
   "metadata": {},
   "source": [
    "## This network has dead ends"
   ]
  },
  {
   "cell_type": "code",
   "execution_count": 28,
   "metadata": {
    "collapsed": true
   },
   "outputs": [],
   "source": [
    "M = np.array([[0, 1/2, 0, 0],\n",
    "              [1/3, 0, 0, 1/2],\n",
    "              [1/3, 0 ,0 ,1/2],\n",
    "              [1/3, 1/2, 0, 0]])"
   ]
  },
  {
   "cell_type": "code",
   "execution_count": 31,
   "metadata": {
    "collapsed": false
   },
   "outputs": [
    {
     "name": "stdout",
     "output_type": "stream",
     "text": [
      "PR after 15 iterations:\n",
      "[[ 0.08258051]\n",
      " [ 0.10599353]\n",
      " [ 0.10599353]\n",
      " [ 0.10599353]]\n"
     ]
    },
    {
     "data": {
      "text/plain": [
       "<matplotlib.text.Text at 0x1198b19b0>"
      ]
     },
     "execution_count": 31,
     "metadata": {},
     "output_type": "execute_result"
    },
    {
     "data": {
      "image/png": "[encoded data removed]",
      "text/plain": [
       "<matplotlib.figure.Figure at 0x1198ad710>"
      ]
     },
     "metadata": {},
     "output_type": "display_data"
    }
   ],
   "source": [
    "epsylon = 0.0001\n",
    "beta = 0.85\n",
    "PR = np.array([[1/4],\n",
    "               [1/4],\n",
    "               [1/4],\n",
    "               [1/4]])\n",
    "iterations = 0\n",
    "oldPR = np.zeros((4,1))\n",
    "allPR = [PR]\n",
    "while max(np.abs(oldPR-PR)) > epsylon:\n",
    "    oldPR = PR\n",
    "    PR = beta*(np.dot(M, PR)) + (1-beta)/4*np.ones((4,1))\n",
    "    allPR.append(PR)\n",
    "    iterations += 1\n",
    "print(\"PR after %i iterations:\" % iterations)\n",
    "print(PR)\n",
    "for p in range(4):\n",
    "    data = [onePR[p,0] for onePR in allPR]\n",
    "    plt.plot(data)\n",
    "plt.xlabel(\"Iterations\")\n",
    "plt.ylabel(\"PageRank\")"
   ]
  },
  {
   "cell_type": "markdown",
   "metadata": {},
   "source": [
    "## This network has a one-node spider trap"
   ]
  },
  {
   "cell_type": "code",
   "execution_count": 32,
   "metadata": {
    "collapsed": true
   },
   "outputs": [],
   "source": [
    "M = np.array([[0,  1/2, 0,  0],\n",
    "              [1/3,  0, 0,1/2],\n",
    "              [1/3,  0, 1,1/2],\n",
    "              [1/3,1/2, 0,  0]])"
   ]
  },
  {
   "cell_type": "code",
   "execution_count": 33,
   "metadata": {
    "collapsed": false
   },
   "outputs": [
    {
     "name": "stdout",
     "output_type": "stream",
     "text": [
      "PR after 17 iterations:\n",
      "[[ 0.08252665]\n",
      " [ 0.10591504]\n",
      " [ 0.70564327]\n",
      " [ 0.10591504]]\n"
     ]
    },
    {
     "data": {
      "text/plain": [
       "<matplotlib.text.Text at 0x1198b15f8>"
      ]
     },
     "execution_count": 33,
     "metadata": {},
     "output_type": "execute_result"
    },
    {
     "data": {
      "image/png": "[encoded data removed]",
      "text/plain": [
       "<matplotlib.figure.Figure at 0x1196a0780>"
      ]
     },
     "metadata": {},
     "output_type": "display_data"
    }
   ],
   "source": [
    "epsylon = 0.0001\n",
    "beta = 0.85\n",
    "PR = np.array([[1/4],\n",
    "               [1/4],\n",
    "               [1/4],\n",
    "               [1/4]])\n",
    "iterations = 0\n",
    "oldPR = np.zeros((4,1))\n",
    "allPR = [PR]\n",
    "while max(np.abs(oldPR-PR)) > epsylon:\n",
    "    oldPR = PR\n",
    "    PR = beta*(np.dot(M, PR)) + (1-beta)/4*np.ones((4,1))\n",
    "    allPR.append(PR)\n",
    "    iterations += 1\n",
    "print(\"PR after %i iterations:\" % iterations)\n",
    "print(PR)\n",
    "for p in range(4):\n",
    "    data = [onePR[p,0] for onePR in allPR]\n",
    "    plt.plot(data)\n",
    "plt.xlabel(\"Iterations\")\n",
    "plt.ylabel(\"PageRank\")"
   ]
  },
  {
   "cell_type": "code",
   "execution_count": null,
   "metadata": {
    "collapsed": true
   },
   "outputs": [],
   "source": []
  }
 ],
 "metadata": {
  "anaconda-cloud": {},
  "kernelspec": {
   "display_name": "Python 3",
   "language": "python",
   "name": "python3"
  },
  "language_info": {
   "codemirror_mode": {
    "name": "ipython",
    "version": 3
   },
   "file_extension": ".py",
   "mimetype": "text/x-python",
   "name": "python",
   "nbconvert_exporter": "python",
   "pygments_lexer": "ipython3",
   "version": "3.6.0"
  }
 },
 "nbformat": 4,
 "nbformat_minor": 0
}
