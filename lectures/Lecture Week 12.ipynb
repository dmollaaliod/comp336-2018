{
 "cells": [
  {
   "cell_type": "markdown",
   "metadata": {
    "slideshow": {
     "slide_type": "slide"
    }
   },
   "source": [
    "# A MapReduce framework for Python\n",
    "The following code is a simple MapReduce framework that runs entirely in Python. This framework does not use any parallel nodes, so it is only for practice with MapReduce with small data."
   ]
  },
  {
   "cell_type": "code",
   "execution_count": 1,
   "metadata": {
    "collapsed": true,
    "slideshow": {
     "slide_type": "subslide"
    }
   },
   "outputs": [],
   "source": [
    "import itertools\n",
    "def map_reduce(i,mapper,reducer):\n",
    "  intermediate = []\n",
    "  for (key,value) in i.items():\n",
    "    intermediate.extend(mapper(key,value))\n",
    "  groups = {}\n",
    "  for key, group in itertools.groupby(sorted(intermediate), \n",
    "                                      lambda x: x[0]):\n",
    "    groups[key] = list([y for x, y in group])\n",
    "  return [reducer(intermediate_key,groups[intermediate_key])\n",
    "          for intermediate_key in groups]"
   ]
  },
  {
   "cell_type": "markdown",
   "metadata": {},
   "source": [
    "## Example: Count word frequencies\n",
    "For example, the following code would use MapReduce to count word frequencies in a list of tweets."
   ]
  },
  {
   "cell_type": "code",
   "execution_count": 2,
   "metadata": {
    "collapsed": true
   },
   "outputs": [],
   "source": [
    "def mapper(key, value):\n",
    "    return [(w, 1) for w in value.split()]"
   ]
  },
  {
   "cell_type": "code",
   "execution_count": 3,
   "metadata": {
    "collapsed": true
   },
   "outputs": [],
   "source": [
    "def reducer(key, values):\n",
    "    return key, sum(values)"
   ]
  },
  {
   "cell_type": "code",
   "execution_count": 4,
   "metadata": {
    "collapsed": true
   },
   "outputs": [],
   "source": [
    "import zipfile\n",
    "from pathlib import Path\n",
    "if not Path('../assignments/10000 tweets-NEW.json').exists():\n",
    "    print(\"Unzipping tweets\")\n",
    "    with zipfile.ZipFile('../assignments/cleaned-tweets.zip') as myzip:\n",
    "        myzip.extractall()"
   ]
  },
  {
   "cell_type": "code",
   "execution_count": 5,
   "metadata": {
    "collapsed": false
   },
   "outputs": [],
   "source": [
    "import json\n",
    "def get_tweets(ntweets):\n",
    "    with open('../assignments/10000 tweets-NEW.json', encoding='iso8859-1') as jfile:\n",
    "        result = dict()\n",
    "        i = 0\n",
    "        for line in jfile:\n",
    "            if i >= ntweets:\n",
    "                break\n",
    "            try:\n",
    "                next_tweet = json.loads(line)\n",
    "                tweet_id = next_tweet['id']\n",
    "                tweet_body = next_tweet['body']\n",
    "            except:\n",
    "                continue\n",
    "            result[tweet_id] = tweet_body\n",
    "            i += 1\n",
    "    return result"
   ]
  },
  {
   "cell_type": "code",
   "execution_count": 6,
   "metadata": {
    "collapsed": false
   },
   "outputs": [],
   "source": [
    "tweets_5 = get_tweets(5)"
   ]
  },
  {
   "cell_type": "code",
   "execution_count": 7,
   "metadata": {
    "collapsed": false
   },
   "outputs": [
    {
     "data": {
      "text/plain": [
       "5"
      ]
     },
     "execution_count": 7,
     "metadata": {},
     "output_type": "execute_result"
    }
   ],
   "source": [
    "len(tweets_5)"
   ]
  },
  {
   "cell_type": "code",
   "execution_count": 8,
   "metadata": {
    "collapsed": false
   },
   "outputs": [
    {
     "data": {
      "text/plain": [
       "[('\"We', 1),\n",
       " ('#Convergence2016', 1),\n",
       " ('#RedCentreNT!', 1),\n",
       " ('#vicweather', 1),\n",
       " ('&amp;', 2),\n",
       " ('0', 1),\n",
       " ('0.0', 1),\n",
       " ('1014.3', 1),\n",
       " ('11:00', 1),\n",
       " ('19.8Â°C,', 1),\n",
       " ('3pm', 1),\n",
       " ('4pm...', 1),\n",
       " ('67pct,', 1),\n",
       " ('@', 1),\n",
       " ('AM', 1),\n",
       " ('AU', 1),\n",
       " ('Australia', 1),\n",
       " ('BBQ,', 1),\n",
       " ('Beverages', 1),\n",
       " ('Bikini', 1),\n",
       " ('CONGRATULATIONS', 1),\n",
       " ('Central', 1),\n",
       " ('FANTASTIC', 1),\n",
       " ('Free', 1),\n",
       " (\"Friday's\", 1),\n",
       " ('Girls', 1),\n",
       " ('Lunch', 1),\n",
       " ('Meat', 1),\n",
       " ('NNW', 1),\n",
       " ('RH', 1),\n",
       " ('Raffle', 1),\n",
       " ('Raffles', 1),\n",
       " ('Rain', 1),\n",
       " ('Register', 1),\n",
       " ('Seafood', 1),\n",
       " ('So', 1),\n",
       " ('Steady.', 1),\n",
       " ('Suzie', 1),\n",
       " ('Temp', 1),\n",
       " ('The...', 1),\n",
       " ('Time', 1),\n",
       " ('Today', 1),\n",
       " ('VIC,', 1),\n",
       " ('Visit', 1),\n",
       " ('Walker', 1),\n",
       " ('Wantirna,', 1),\n",
       " ('Winds', 1),\n",
       " ('You...', 1),\n",
       " ('about', 1),\n",
       " ('and', 3),\n",
       " ('around', 1),\n",
       " ('beaches', 1),\n",
       " ('beautiful', 1),\n",
       " ('both', 1),\n",
       " ('change', 1),\n",
       " ('commitment', 1),\n",
       " ('digital', 1),\n",
       " ('do', 1),\n",
       " ('for', 1),\n",
       " ('from', 2),\n",
       " ('hard', 1),\n",
       " ('have', 1),\n",
       " ('hear@ChelleMelbourne', 1),\n",
       " ('how', 1),\n",
       " ('hpa', 1),\n",
       " ('https://t.co/7pxwwDeaXm', 1),\n",
       " ('https://t.co/eRyP7eTk9X', 1),\n",
       " ('https://t.co/etPRxJ2l7x', 1),\n",
       " ('https://t.co/m4QLVq0BTr', 1),\n",
       " ('in', 1),\n",
       " ('kind', 1),\n",
       " ('km/h,', 1),\n",
       " ('little', 1),\n",
       " ('man', 1),\n",
       " ('manage', 1),\n",
       " ('mm,', 1),\n",
       " ('much', 1),\n",
       " ('of', 1),\n",
       " ('on', 1),\n",
       " ('our', 1),\n",
       " ('own', 1),\n",
       " ('see', 1),\n",
       " ('talk', 1),\n",
       " ('the', 1),\n",
       " ('through', 1),\n",
       " ('to', 3),\n",
       " ('transformation', 1),\n",
       " ('when', 1),\n",
       " ('work.', 1),\n",
       " ('you', 1),\n",
       " ('your', 2)]"
      ]
     },
     "execution_count": 8,
     "metadata": {},
     "output_type": "execute_result"
    }
   ],
   "source": [
    "map_reduce(tweets_5, mapper, reducer)"
   ]
  },
  {
   "cell_type": "markdown",
   "metadata": {},
   "source": [
    "## Exercise 1: Find the number of tweets per twitter\n",
    "Write code that finds the number of tweets per twitter."
   ]
  },
  {
   "cell_type": "code",
   "execution_count": 9,
   "metadata": {
    "collapsed": true
   },
   "outputs": [],
   "source": [
    "def mapper(key, value):\n",
    "    # Write your code here\n",
    "    return []"
   ]
  },
  {
   "cell_type": "code",
   "execution_count": 10,
   "metadata": {
    "collapsed": true
   },
   "outputs": [],
   "source": [
    "def reducer(key, values):\n",
    "    # write your code here\n",
    "    return None"
   ]
  },
  {
   "cell_type": "code",
   "execution_count": 11,
   "metadata": {
    "collapsed": true
   },
   "outputs": [],
   "source": [
    "import json\n",
    "def get_tweets(ntweets):\n",
    "    with open('../assignments/10000 tweets-NEW.json', encoding='iso8859-1') as jfile:\n",
    "        result = dict()\n",
    "        i = 0\n",
    "        for line in jfile:\n",
    "            if i >= ntweets:\n",
    "                break\n",
    "            try:\n",
    "                next_tweet = json.loads(line)\n",
    "                tweet_twitter = next_tweet['actor']['id']\n",
    "                tweet_body = next_tweet['body']\n",
    "            except:\n",
    "                continue\n",
    "            result[tweet_twitter] = tweet_body\n",
    "            i += 1\n",
    "    return result"
   ]
  },
  {
   "cell_type": "code",
   "execution_count": 12,
   "metadata": {
    "collapsed": false
   },
   "outputs": [],
   "source": [
    "tweets_500 = get_tweets(500)"
   ]
  },
  {
   "cell_type": "code",
   "execution_count": 13,
   "metadata": {
    "collapsed": false
   },
   "outputs": [
    {
     "data": {
      "text/plain": [
       "[('id:twitter.com:1003723232', 1),\n",
       " ('id:twitter.com:1040901512', 1),\n",
       " ('id:twitter.com:1047530119', 1),\n",
       " ('id:twitter.com:1057079388', 1),\n",
       " ('id:twitter.com:10576322', 1),\n",
       " ('id:twitter.com:1075639382', 1),\n",
       " ('id:twitter.com:107774296', 1),\n",
       " ('id:twitter.com:1081805533', 1),\n",
       " ('id:twitter.com:108577207', 1),\n",
       " ('id:twitter.com:1094259638', 1),\n",
       " ('id:twitter.com:1097917428', 1),\n",
       " ('id:twitter.com:109983796', 1),\n",
       " ('id:twitter.com:1105928430', 1),\n",
       " ('id:twitter.com:1117988982', 1),\n",
       " ('id:twitter.com:112008354', 1),\n",
       " ('id:twitter.com:1120104104', 1),\n",
       " ('id:twitter.com:1170173209', 1),\n",
       " ('id:twitter.com:117344322', 1),\n",
       " ('id:twitter.com:117602839', 1),\n",
       " ('id:twitter.com:1178994756', 1),\n",
       " ('id:twitter.com:1210672568', 1),\n",
       " ('id:twitter.com:12541222', 1),\n",
       " ('id:twitter.com:1268982752', 1),\n",
       " ('id:twitter.com:1271991079', 1),\n",
       " ('id:twitter.com:128767993', 1),\n",
       " ('id:twitter.com:132387877', 1),\n",
       " ('id:twitter.com:133222533', 1),\n",
       " ('id:twitter.com:1341343152', 1),\n",
       " ('id:twitter.com:1356109537', 1),\n",
       " ('id:twitter.com:1357452367', 1),\n",
       " ('id:twitter.com:137534601', 1),\n",
       " ('id:twitter.com:137595268', 1),\n",
       " ('id:twitter.com:137939791', 1),\n",
       " ('id:twitter.com:138418895', 1),\n",
       " ('id:twitter.com:138976520', 1),\n",
       " ('id:twitter.com:1407798152', 1),\n",
       " ('id:twitter.com:141680286', 1),\n",
       " ('id:twitter.com:14198428', 1),\n",
       " ('id:twitter.com:14200941', 1),\n",
       " ('id:twitter.com:14206115', 1),\n",
       " ('id:twitter.com:1452696858', 1),\n",
       " ('id:twitter.com:1453718503', 1),\n",
       " ('id:twitter.com:1454068381', 1),\n",
       " ('id:twitter.com:1466390142', 1),\n",
       " ('id:twitter.com:14730488', 1),\n",
       " ('id:twitter.com:14740721', 1),\n",
       " ('id:twitter.com:14751626', 1),\n",
       " ('id:twitter.com:14820495', 1),\n",
       " ('id:twitter.com:149178570', 1),\n",
       " ('id:twitter.com:149585330', 1),\n",
       " ('id:twitter.com:1497280182', 1),\n",
       " ('id:twitter.com:15003536', 1),\n",
       " ('id:twitter.com:15080202', 1),\n",
       " ('id:twitter.com:150943339', 1),\n",
       " ('id:twitter.com:15104609', 1),\n",
       " ('id:twitter.com:1514751188', 1),\n",
       " ('id:twitter.com:151768186', 1),\n",
       " ('id:twitter.com:15225512', 1),\n",
       " ('id:twitter.com:152451998', 1),\n",
       " ('id:twitter.com:15466377', 1),\n",
       " ('id:twitter.com:155087790', 1),\n",
       " ('id:twitter.com:1554847914', 1),\n",
       " ('id:twitter.com:15581551', 1),\n",
       " ('id:twitter.com:1560571814', 1),\n",
       " ('id:twitter.com:1582247592', 1),\n",
       " ('id:twitter.com:158232795', 1),\n",
       " ('id:twitter.com:158688675', 1),\n",
       " ('id:twitter.com:1587587965', 1),\n",
       " ('id:twitter.com:16000837', 1),\n",
       " ('id:twitter.com:161155151', 1),\n",
       " ('id:twitter.com:16144405', 1),\n",
       " ('id:twitter.com:1617324860', 1),\n",
       " ('id:twitter.com:163303317', 1),\n",
       " ('id:twitter.com:1644178051', 1),\n",
       " ('id:twitter.com:1647662754', 1),\n",
       " ('id:twitter.com:165997630', 1),\n",
       " ('id:twitter.com:1667589144', 1),\n",
       " ('id:twitter.com:1672757682', 1),\n",
       " ('id:twitter.com:16755150', 1),\n",
       " ('id:twitter.com:168393498', 1),\n",
       " ('id:twitter.com:1704544057', 1),\n",
       " ('id:twitter.com:1716641617', 1),\n",
       " ('id:twitter.com:174153684', 1),\n",
       " ('id:twitter.com:174175606', 1),\n",
       " ('id:twitter.com:17437437', 1),\n",
       " ('id:twitter.com:17484262', 1),\n",
       " ('id:twitter.com:174942374', 1),\n",
       " ('id:twitter.com:17613822', 1),\n",
       " ('id:twitter.com:176985932', 1),\n",
       " ('id:twitter.com:17709216', 1),\n",
       " ('id:twitter.com:17803866', 1),\n",
       " ('id:twitter.com:17986854', 1),\n",
       " ('id:twitter.com:1799101', 1),\n",
       " ('id:twitter.com:18020706', 1),\n",
       " ('id:twitter.com:18064228', 1),\n",
       " ('id:twitter.com:18371863', 1),\n",
       " ('id:twitter.com:186264364', 1),\n",
       " ('id:twitter.com:18655359', 1),\n",
       " ('id:twitter.com:187091075', 1),\n",
       " ('id:twitter.com:187131627', 1),\n",
       " ('id:twitter.com:18713644', 1),\n",
       " ('id:twitter.com:18744355', 1),\n",
       " ('id:twitter.com:18798753', 1),\n",
       " ('id:twitter.com:18825983', 1),\n",
       " ('id:twitter.com:188359069', 1),\n",
       " ('id:twitter.com:188921458', 1),\n",
       " ('id:twitter.com:19000376', 1),\n",
       " ('id:twitter.com:190961061', 1),\n",
       " ('id:twitter.com:192055308', 1),\n",
       " ('id:twitter.com:194177631', 1),\n",
       " ('id:twitter.com:194432712', 1),\n",
       " ('id:twitter.com:1956288235', 1),\n",
       " ('id:twitter.com:195847550', 1),\n",
       " ('id:twitter.com:19659468', 1),\n",
       " ('id:twitter.com:1969729615', 1),\n",
       " ('id:twitter.com:19847964', 1),\n",
       " ('id:twitter.com:199104870', 1),\n",
       " ('id:twitter.com:199197543', 1),\n",
       " ('id:twitter.com:200840900', 1),\n",
       " ('id:twitter.com:201865157', 1),\n",
       " ('id:twitter.com:21081138', 1),\n",
       " ('id:twitter.com:2161496167', 1),\n",
       " ('id:twitter.com:2180489057', 1),\n",
       " ('id:twitter.com:2184977798', 1),\n",
       " ('id:twitter.com:2186300442', 1),\n",
       " ('id:twitter.com:219586560', 1),\n",
       " ('id:twitter.com:220262110', 1),\n",
       " ('id:twitter.com:2204144912', 1),\n",
       " ('id:twitter.com:2211798234', 1),\n",
       " ('id:twitter.com:2211953840', 1),\n",
       " ('id:twitter.com:2212097318', 1),\n",
       " ('id:twitter.com:221780826', 1),\n",
       " ('id:twitter.com:222401220', 1),\n",
       " ('id:twitter.com:22355533', 1),\n",
       " ('id:twitter.com:2238323790', 1),\n",
       " ('id:twitter.com:2238333955', 1),\n",
       " ('id:twitter.com:224926930', 1),\n",
       " ('id:twitter.com:225568917', 1),\n",
       " ('id:twitter.com:2277958889', 1),\n",
       " ('id:twitter.com:2284877388', 1),\n",
       " ('id:twitter.com:228497112', 1),\n",
       " ('id:twitter.com:22851978', 1),\n",
       " ('id:twitter.com:2293608416', 1),\n",
       " ('id:twitter.com:2297825652', 1),\n",
       " ('id:twitter.com:2311238994', 1),\n",
       " ('id:twitter.com:2311341282', 1),\n",
       " ('id:twitter.com:2312651474', 1),\n",
       " ('id:twitter.com:2320525034', 1),\n",
       " ('id:twitter.com:2322465192', 1),\n",
       " ('id:twitter.com:232315271', 1),\n",
       " ('id:twitter.com:233392253', 1),\n",
       " ('id:twitter.com:235041834', 1),\n",
       " ('id:twitter.com:235073391', 1),\n",
       " ('id:twitter.com:23572940', 1),\n",
       " ('id:twitter.com:2369792190', 1),\n",
       " ('id:twitter.com:23731952', 1),\n",
       " ('id:twitter.com:238921529', 1),\n",
       " ('id:twitter.com:239187608', 1),\n",
       " ('id:twitter.com:23936296', 1),\n",
       " ('id:twitter.com:24053255', 1),\n",
       " ('id:twitter.com:240555826', 1),\n",
       " ('id:twitter.com:2407815140', 1),\n",
       " ('id:twitter.com:24092166', 1),\n",
       " ('id:twitter.com:241260013', 1),\n",
       " ('id:twitter.com:2414931', 1),\n",
       " ('id:twitter.com:2415492990', 1),\n",
       " ('id:twitter.com:2424937429', 1),\n",
       " ('id:twitter.com:2435603804', 1),\n",
       " ('id:twitter.com:244898534', 1),\n",
       " ('id:twitter.com:2450534934', 1),\n",
       " ('id:twitter.com:24623087', 1),\n",
       " ('id:twitter.com:2479384298', 1),\n",
       " ('id:twitter.com:24847726', 1),\n",
       " ('id:twitter.com:24861657', 1),\n",
       " ('id:twitter.com:25055720', 1),\n",
       " ('id:twitter.com:250902400', 1),\n",
       " ('id:twitter.com:2510433878', 1),\n",
       " ('id:twitter.com:2512593710', 1),\n",
       " ('id:twitter.com:252866356', 1),\n",
       " ('id:twitter.com:253936674', 1),\n",
       " ('id:twitter.com:25393888', 1),\n",
       " ('id:twitter.com:253977960', 1),\n",
       " ('id:twitter.com:2542176889', 1),\n",
       " ('id:twitter.com:2553499226', 1),\n",
       " ('id:twitter.com:2561086244', 1),\n",
       " ('id:twitter.com:2585324544', 1),\n",
       " ('id:twitter.com:2603192304', 1),\n",
       " ('id:twitter.com:2606440981', 1),\n",
       " ('id:twitter.com:2607225000', 1),\n",
       " ('id:twitter.com:2609298102', 1),\n",
       " ('id:twitter.com:2616852576', 1),\n",
       " ('id:twitter.com:26204746', 1),\n",
       " ('id:twitter.com:262406308', 1),\n",
       " ('id:twitter.com:262912715', 1),\n",
       " ('id:twitter.com:265654971', 1),\n",
       " ('id:twitter.com:265715142', 1),\n",
       " ('id:twitter.com:2686845606', 1),\n",
       " ('id:twitter.com:2692296421', 1),\n",
       " ('id:twitter.com:2699939232', 1),\n",
       " ('id:twitter.com:270117842', 1),\n",
       " ('id:twitter.com:270690469', 1),\n",
       " ('id:twitter.com:272300805', 1),\n",
       " ('id:twitter.com:273684031', 1),\n",
       " ('id:twitter.com:274850479', 1),\n",
       " ('id:twitter.com:276970198', 1),\n",
       " ('id:twitter.com:27798708', 1),\n",
       " ('id:twitter.com:27815192', 1),\n",
       " ('id:twitter.com:2785310902', 1),\n",
       " ('id:twitter.com:2790947301', 1),\n",
       " ('id:twitter.com:279293270', 1),\n",
       " ('id:twitter.com:2795631523', 1),\n",
       " ('id:twitter.com:2795655980', 1),\n",
       " ('id:twitter.com:280500642', 1),\n",
       " ('id:twitter.com:28070391', 1),\n",
       " ('id:twitter.com:280802428', 1),\n",
       " ('id:twitter.com:2809180692', 1),\n",
       " ('id:twitter.com:281206788', 1),\n",
       " ('id:twitter.com:281897397', 1),\n",
       " ('id:twitter.com:282774131', 1),\n",
       " ('id:twitter.com:2834776771', 1),\n",
       " ('id:twitter.com:2836291644', 1),\n",
       " ('id:twitter.com:284174585', 1),\n",
       " ('id:twitter.com:284376436', 1),\n",
       " ('id:twitter.com:2848095444', 1),\n",
       " ('id:twitter.com:28544185', 1),\n",
       " ('id:twitter.com:28695371', 1),\n",
       " ('id:twitter.com:2869591473', 1),\n",
       " ('id:twitter.com:2881258908', 1),\n",
       " ('id:twitter.com:2884069183', 1),\n",
       " ('id:twitter.com:28897421', 1),\n",
       " ('id:twitter.com:2895672937', 1),\n",
       " ('id:twitter.com:2899752564', 1),\n",
       " ('id:twitter.com:2908817767', 1),\n",
       " ('id:twitter.com:2910811176', 1),\n",
       " ('id:twitter.com:2911598502', 1),\n",
       " ('id:twitter.com:29183782', 1),\n",
       " ('id:twitter.com:2935506211', 1),\n",
       " ('id:twitter.com:2940699865', 1),\n",
       " ('id:twitter.com:2956476188', 1),\n",
       " ('id:twitter.com:2956898436', 1),\n",
       " ('id:twitter.com:296191154', 1),\n",
       " ('id:twitter.com:296196597', 1),\n",
       " ('id:twitter.com:296796399', 1),\n",
       " ('id:twitter.com:29948696', 1),\n",
       " ('id:twitter.com:3005672979', 1),\n",
       " ('id:twitter.com:3008572164', 1),\n",
       " ('id:twitter.com:3011171', 1),\n",
       " ('id:twitter.com:3023562529', 1),\n",
       " ('id:twitter.com:303200090', 1),\n",
       " ('id:twitter.com:3038554387', 1),\n",
       " ('id:twitter.com:3039393803', 1),\n",
       " ('id:twitter.com:30546163', 1),\n",
       " ('id:twitter.com:306037196', 1),\n",
       " ('id:twitter.com:3063190931', 1),\n",
       " ('id:twitter.com:306575330', 1),\n",
       " ('id:twitter.com:3080452394', 1),\n",
       " ('id:twitter.com:310297659', 1),\n",
       " ('id:twitter.com:31050670', 1),\n",
       " ('id:twitter.com:3120813085', 1),\n",
       " ('id:twitter.com:313853751', 1),\n",
       " ('id:twitter.com:31600213', 1),\n",
       " ('id:twitter.com:3168298890', 1),\n",
       " ('id:twitter.com:3181460250', 1),\n",
       " ('id:twitter.com:3181465110', 1),\n",
       " ('id:twitter.com:3181471518', 1),\n",
       " ('id:twitter.com:3181471632', 1),\n",
       " ('id:twitter.com:3181473168', 1),\n",
       " ('id:twitter.com:3181525394', 1),\n",
       " ('id:twitter.com:3196609551', 1),\n",
       " ('id:twitter.com:3225983085', 1),\n",
       " ('id:twitter.com:3225987657', 1),\n",
       " ('id:twitter.com:3225989079', 1),\n",
       " ('id:twitter.com:3225992715', 1),\n",
       " ('id:twitter.com:3226026467', 1),\n",
       " ('id:twitter.com:3226026923', 1),\n",
       " ('id:twitter.com:3226089586', 1),\n",
       " ('id:twitter.com:32278289', 1),\n",
       " ('id:twitter.com:3231585601', 1),\n",
       " ('id:twitter.com:3233181013', 1),\n",
       " ('id:twitter.com:3233497979', 1),\n",
       " ('id:twitter.com:32340937', 1),\n",
       " ('id:twitter.com:3235796736', 1),\n",
       " ('id:twitter.com:324201150', 1),\n",
       " ('id:twitter.com:3251475576', 1),\n",
       " ('id:twitter.com:3252991753', 1),\n",
       " ('id:twitter.com:325327587', 1),\n",
       " ('id:twitter.com:3257032854', 1),\n",
       " ('id:twitter.com:326639353', 1),\n",
       " ('id:twitter.com:3266593548', 1),\n",
       " ('id:twitter.com:3270112831', 1),\n",
       " ('id:twitter.com:3306930701', 1),\n",
       " ('id:twitter.com:3307510882', 1),\n",
       " ('id:twitter.com:3307732830', 1),\n",
       " ('id:twitter.com:3315843853', 1),\n",
       " ('id:twitter.com:334363062', 1),\n",
       " ('id:twitter.com:3370173412', 1),\n",
       " ('id:twitter.com:3372141252', 1),\n",
       " ('id:twitter.com:3392425452', 1),\n",
       " ('id:twitter.com:3399633089', 1),\n",
       " ('id:twitter.com:3406612403', 1),\n",
       " ('id:twitter.com:34266258', 1),\n",
       " ('id:twitter.com:3453401054', 1),\n",
       " ('id:twitter.com:34958307', 1),\n",
       " ('id:twitter.com:3503830336', 1),\n",
       " ('id:twitter.com:352195702', 1),\n",
       " ('id:twitter.com:35376068', 1),\n",
       " ('id:twitter.com:35389973', 1),\n",
       " ('id:twitter.com:355151947', 1),\n",
       " ('id:twitter.com:35742815', 1),\n",
       " ('id:twitter.com:3578346132', 1),\n",
       " ('id:twitter.com:363445296', 1),\n",
       " ('id:twitter.com:369903187', 1),\n",
       " ('id:twitter.com:371036899', 1),\n",
       " ('id:twitter.com:3725044154', 1),\n",
       " ('id:twitter.com:37361536', 1),\n",
       " ('id:twitter.com:3749456833', 1),\n",
       " ('id:twitter.com:375063693', 1),\n",
       " ('id:twitter.com:3799270632', 1),\n",
       " ('id:twitter.com:380543505', 1),\n",
       " ('id:twitter.com:38076735', 1),\n",
       " ('id:twitter.com:381427839', 1),\n",
       " ('id:twitter.com:38590251', 1),\n",
       " ('id:twitter.com:387499702', 1),\n",
       " ('id:twitter.com:387523648', 1),\n",
       " ('id:twitter.com:387574686', 1),\n",
       " ('id:twitter.com:389330698', 1),\n",
       " ('id:twitter.com:39191308', 1),\n",
       " ('id:twitter.com:3931865778', 1),\n",
       " ('id:twitter.com:394221363', 1),\n",
       " ('id:twitter.com:3950625196', 1),\n",
       " ('id:twitter.com:3953083273', 1),\n",
       " ('id:twitter.com:39946775', 1),\n",
       " ('id:twitter.com:4001173760', 1),\n",
       " ('id:twitter.com:401974486', 1),\n",
       " ('id:twitter.com:411912434', 1),\n",
       " ('id:twitter.com:412810496', 1),\n",
       " ('id:twitter.com:412872520', 1),\n",
       " ('id:twitter.com:41494082', 1),\n",
       " ('id:twitter.com:4160868740', 1),\n",
       " ('id:twitter.com:418648858', 1),\n",
       " ('id:twitter.com:419339510', 1),\n",
       " ('id:twitter.com:41950932', 1),\n",
       " ('id:twitter.com:422339416', 1),\n",
       " ('id:twitter.com:42706734', 1),\n",
       " ('id:twitter.com:4272713356', 1),\n",
       " ('id:twitter.com:430237811', 1),\n",
       " ('id:twitter.com:430841781', 1),\n",
       " ('id:twitter.com:430865466', 1),\n",
       " ('id:twitter.com:435703037', 1),\n",
       " ('id:twitter.com:4377430696', 1),\n",
       " ('id:twitter.com:4387831758', 1),\n",
       " ('id:twitter.com:44021087', 1),\n",
       " ('id:twitter.com:440894087', 1),\n",
       " ('id:twitter.com:4439245393', 1),\n",
       " ('id:twitter.com:448608078', 1),\n",
       " ('id:twitter.com:44988080', 1),\n",
       " ('id:twitter.com:452668088', 1),\n",
       " ('id:twitter.com:460114134', 1),\n",
       " ('id:twitter.com:460687794', 1),\n",
       " ('id:twitter.com:463633055', 1),\n",
       " ('id:twitter.com:468183874', 1),\n",
       " ('id:twitter.com:4684695571', 1),\n",
       " ('id:twitter.com:4688242819', 1),\n",
       " ('id:twitter.com:469067464', 1),\n",
       " ('id:twitter.com:469495539', 1),\n",
       " ('id:twitter.com:4706604384', 1),\n",
       " ('id:twitter.com:47562870', 1),\n",
       " ('id:twitter.com:47612658', 1),\n",
       " ('id:twitter.com:4768958869', 1),\n",
       " ('id:twitter.com:4776237037', 1),\n",
       " ('id:twitter.com:47792091', 1),\n",
       " ('id:twitter.com:478742338', 1),\n",
       " ('id:twitter.com:479233825', 1),\n",
       " ('id:twitter.com:4821674873', 1),\n",
       " ('id:twitter.com:48270838', 1),\n",
       " ('id:twitter.com:4842747517', 1),\n",
       " ('id:twitter.com:4847638006', 1),\n",
       " ('id:twitter.com:4851976463', 1),\n",
       " ('id:twitter.com:485690554', 1),\n",
       " ('id:twitter.com:48984819', 1),\n",
       " ('id:twitter.com:492802702', 1),\n",
       " ('id:twitter.com:496374455', 1),\n",
       " ('id:twitter.com:50229217', 1),\n",
       " ('id:twitter.com:50239585', 1),\n",
       " ('id:twitter.com:504093370', 1),\n",
       " ('id:twitter.com:50892632', 1),\n",
       " ('id:twitter.com:517465320', 1),\n",
       " ('id:twitter.com:519988461', 1),\n",
       " ('id:twitter.com:52031856', 1),\n",
       " ('id:twitter.com:526125131', 1),\n",
       " ('id:twitter.com:53002109', 1),\n",
       " ('id:twitter.com:531108294', 1),\n",
       " ('id:twitter.com:536742193', 1),\n",
       " ('id:twitter.com:54037230', 1),\n",
       " ('id:twitter.com:542973157', 1),\n",
       " ('id:twitter.com:55538852', 1),\n",
       " ('id:twitter.com:55781440', 1),\n",
       " ('id:twitter.com:56151063', 1),\n",
       " ('id:twitter.com:565083631', 1),\n",
       " ('id:twitter.com:567897236', 1),\n",
       " ('id:twitter.com:57331749', 1),\n",
       " ('id:twitter.com:573381055', 1),\n",
       " ('id:twitter.com:580730627', 1),\n",
       " ('id:twitter.com:58144588', 1),\n",
       " ('id:twitter.com:581518524', 1),\n",
       " ('id:twitter.com:5946142', 1),\n",
       " ('id:twitter.com:606359720', 1),\n",
       " ('id:twitter.com:61121659', 1),\n",
       " ('id:twitter.com:61198417', 1),\n",
       " ('id:twitter.com:61542328', 1),\n",
       " ('id:twitter.com:616593692', 1),\n",
       " ('id:twitter.com:617106291', 1),\n",
       " ('id:twitter.com:618671219', 1),\n",
       " ('id:twitter.com:63094759', 1),\n",
       " ('id:twitter.com:65584618', 1),\n",
       " ('id:twitter.com:68158478', 1),\n",
       " ('id:twitter.com:695422365933522945', 1),\n",
       " ('id:twitter.com:701233568962494464', 1),\n",
       " ('id:twitter.com:704084550410833920', 1),\n",
       " ('id:twitter.com:70614241', 1),\n",
       " ('id:twitter.com:708476369244524548', 1),\n",
       " ('id:twitter.com:708644707', 1),\n",
       " ('id:twitter.com:709024746164191232', 1),\n",
       " ('id:twitter.com:709279341285343232', 1),\n",
       " ('id:twitter.com:709389886084612097', 1),\n",
       " ('id:twitter.com:709518464617222144', 1),\n",
       " ('id:twitter.com:709857087203966976', 1),\n",
       " ('id:twitter.com:709986697304535040', 1),\n",
       " ('id:twitter.com:710946054540304385', 1),\n",
       " ('id:twitter.com:711797294501244929', 1),\n",
       " ('id:twitter.com:713615998683754496', 1),\n",
       " ('id:twitter.com:715062692701151232', 1),\n",
       " ('id:twitter.com:715677850414637056', 1),\n",
       " ('id:twitter.com:715689768080773122', 1),\n",
       " ('id:twitter.com:71737136', 1),\n",
       " ('id:twitter.com:72180736', 1),\n",
       " ('id:twitter.com:72508900', 1),\n",
       " ('id:twitter.com:72801945', 1),\n",
       " ('id:twitter.com:730589984', 1),\n",
       " ('id:twitter.com:738074178', 1),\n",
       " ('id:twitter.com:742870590', 1),\n",
       " ('id:twitter.com:78242550', 1),\n",
       " ('id:twitter.com:78356821', 1),\n",
       " ('id:twitter.com:785637074', 1),\n",
       " ('id:twitter.com:792818366', 1),\n",
       " ('id:twitter.com:801206898', 1),\n",
       " ('id:twitter.com:82268941', 1),\n",
       " ('id:twitter.com:828653521', 1),\n",
       " ('id:twitter.com:83765812', 1),\n",
       " ('id:twitter.com:84000292', 1),\n",
       " ('id:twitter.com:84464003', 1),\n",
       " ('id:twitter.com:844833572', 1),\n",
       " ('id:twitter.com:846907543', 1),\n",
       " ('id:twitter.com:85213675', 1),\n",
       " ('id:twitter.com:855501240', 1),\n",
       " ('id:twitter.com:86959984', 1),\n",
       " ('id:twitter.com:8845232', 1),\n",
       " ('id:twitter.com:90037178', 1),\n",
       " ('id:twitter.com:936139027', 1),\n",
       " ('id:twitter.com:943168932', 1),\n",
       " ('id:twitter.com:951502784', 1),\n",
       " ('id:twitter.com:97578801', 1),\n",
       " ('id:twitter.com:98309386', 1),\n",
       " ('id:twitter.com:988488241', 1),\n",
       " ('id:twitter.com:990543296', 1),\n",
       " ('id:twitter.com:99843', 1)]"
      ]
     },
     "execution_count": 13,
     "metadata": {},
     "output_type": "execute_result"
    }
   ],
   "source": [
    "map_reduce(tweets_500, mapper, reducer)"
   ]
  },
  {
   "cell_type": "markdown",
   "metadata": {},
   "source": [
    "## Exercise 2: Compute tf.idf\n",
    "Write code that computes tf.idf\n",
    "$$tf.idf(w,d) = tf(w,d) \\times idf(w)$$ where\n",
    "$$idf(w) = \\log\\frac{N}{|\\{d \\in D : w \\in d\\}|}$$"
   ]
  },
  {
   "cell_type": "markdown",
   "metadata": {},
   "source": [
    "To compute $tf(w,d)$:"
   ]
  },
  {
   "cell_type": "code",
   "execution_count": 14,
   "metadata": {
    "collapsed": true
   },
   "outputs": [],
   "source": [
    "def mapper_tf(docname, contents):\n",
    "    # Write your code here\n",
    "    return []\n",
    "\n",
    "def reducer_tf(key, values):\n",
    "    # Write your code here\n",
    "    return None"
   ]
  },
  {
   "cell_type": "code",
   "execution_count": 15,
   "metadata": {
    "collapsed": true
   },
   "outputs": [],
   "source": [
    "import json\n",
    "def get_tweets(ntweets):\n",
    "    with open('../assignments/10000 tweets-NEW.json', encoding='iso8859-1') as jfile:\n",
    "        result = dict()\n",
    "        i = 0\n",
    "        for line in jfile:\n",
    "            if i >= ntweets:\n",
    "                break\n",
    "            try:\n",
    "                next_tweet = json.loads(line)\n",
    "                tweet_id = next_tweet['id']\n",
    "                tweet_body = next_tweet['body']\n",
    "            except:\n",
    "                continue\n",
    "            result[tweet_id] = tweet_body\n",
    "            i += 1\n",
    "    return result"
   ]
  },
  {
   "cell_type": "code",
   "execution_count": 16,
   "metadata": {
    "collapsed": true
   },
   "outputs": [],
   "source": [
    "tweets_500 = get_tweets(500)"
   ]
  },
  {
   "cell_type": "code",
   "execution_count": 17,
   "metadata": {
    "collapsed": false
   },
   "outputs": [],
   "source": [
    "tf = map_reduce(tweets_500, mapper_tf, reducer_tf)"
   ]
  },
  {
   "cell_type": "code",
   "execution_count": 18,
   "metadata": {
    "collapsed": false
   },
   "outputs": [
    {
     "data": {
      "text/plain": [
       "[(('!', 'tag:search.twitter.com,2005:715690356755435520'), 1),\n",
       " (('\"April', 'tag:search.twitter.com,2005:715692082564714496'), 1),\n",
       " (('\"Basic', 'tag:search.twitter.com,2005:715691268689371136'), 1),\n",
       " (('\"Blade', 'tag:search.twitter.com,2005:715692660279738369'), 1),\n",
       " (('\"Clean', 'tag:search.twitter.com,2005:715691356673298432'), 1),\n",
       " (('\"Demons\"', 'tag:search.twitter.com,2005:715691780901986305'), 1),\n",
       " (('\"Eat', 'tag:search.twitter.com,2005:715691248498020352'), 1),\n",
       " (('\"I', 'tag:search.twitter.com,2005:715692267923570688'), 1),\n",
       " (('\"I', 'tag:search.twitter.com,2005:715692385263550464'), 1),\n",
       " (('\"I\\'ll', 'tag:search.twitter.com,2005:715692479706710016'), 1)]"
      ]
     },
     "execution_count": 18,
     "metadata": {},
     "output_type": "execute_result"
    }
   ],
   "source": [
    "tf[:10]"
   ]
  },
  {
   "cell_type": "markdown",
   "metadata": {},
   "source": [
    "To compute $idf(w)$:"
   ]
  },
  {
   "cell_type": "code",
   "execution_count": 19,
   "metadata": {
    "collapsed": true
   },
   "outputs": [],
   "source": [
    "from math import log\n",
    "def mapper_idf(docname, contents):\n",
    "    # Write your code here\n",
    "    return []\n",
    "\n",
    "def reducer_idf(word, values, N):\n",
    "    # Write your code here\n",
    "    return None"
   ]
  },
  {
   "cell_type": "code",
   "execution_count": 20,
   "metadata": {
    "collapsed": false
   },
   "outputs": [],
   "source": [
    "N = len(tweets_500)\n",
    "idf = map_reduce(tweets_500, mapper_idf, \n",
    "                 lambda x, y: reducer_idf(x, y, N))"
   ]
  },
  {
   "cell_type": "code",
   "execution_count": 21,
   "metadata": {
    "collapsed": false
   },
   "outputs": [
    {
     "data": {
      "text/plain": [
       "[('!', 6.214608098422191),\n",
       " ('\"April', 6.214608098422191),\n",
       " ('\"Basic', 6.214608098422191),\n",
       " ('\"Blade', 6.214608098422191),\n",
       " ('\"Clean', 6.214608098422191),\n",
       " ('\"Demons\"', 6.214608098422191),\n",
       " ('\"Eat', 6.214608098422191),\n",
       " ('\"I', 5.521460917862246),\n",
       " ('\"I\\'ll', 6.214608098422191),\n",
       " ('\"It\\'s', 6.214608098422191)]"
      ]
     },
     "execution_count": 21,
     "metadata": {},
     "output_type": "execute_result"
    }
   ],
   "source": [
    "idf[:10]"
   ]
  },
  {
   "cell_type": "markdown",
   "metadata": {
    "collapsed": true
   },
   "source": [
    "## Example: Minhashing\n",
    "The following exercise is a little more involved and uses Mapreduce to perform minhashing. Remember the minhashing algorithm:\n",
    "\n",
    "1. Initialise $SIG(i,c) \\leftarrow \\infty, i=1 \\ldots n$ for all c.\n",
    "2. Scan row $r=1 \\ldots M$ of the characteristic matrix. This row represents a (possibly hashed) k-shingle.\n",
    "3. Compute the hash values $h_1(r), h_2(r), \\ldots h_n(r)$.\n",
    "4. For each column $c$ (representing a document or set of k-shingles) do the following: \n",
    "    1. If $c$ has 0 in row $r$, the set does not contain the k-shingle; do nothing.\n",
    "    2. If $c$ has 1 in row r, $SIG(i,c) \\leftarrow \\min(SIG(i,c), h_i(r))$, for every hash $i$.\n",
    "    \n",
    "Below is the code that we used in the lecture notebook of week 7."
   ]
  },
  {
   "cell_type": "code",
   "execution_count": 23,
   "metadata": {
    "collapsed": true
   },
   "outputs": [],
   "source": [
    "import nltk\n",
    "\n",
    "def k_hash_shingle(text, k, hash_function, target_range):\n",
    "    return set(hash_function(item, target_range) \n",
    "               for item in nltk.ngrams(text, k))\n",
    "\n",
    "def permute_hash(item, hash_index, target_range):\n",
    "    return (hash(item) * (hash_index+1) + 1) % target_range\n",
    "\n",
    "import numpy as np\n",
    "def minhash(kshingles,\n",
    "            permute_hash_function, signature_rows,\n",
    "            target_range,\n",
    "            verbose=False):\n",
    "    sig = np.ones((signature_rows, len(kshingles))) * np.inf\n",
    "    for r in range(target_range):\n",
    "        for c, ks in enumerate(kshingles):\n",
    "            if r not in ks:\n",
    "                continue\n",
    "            for i in range(signature_rows):\n",
    "                sig[i, c] = min(sig[i,c], \n",
    "                                permute_hash_function(r, i, target_range))\n",
    "        if verbose:\n",
    "            print(\"After scanning row %i\" % r)\n",
    "            print(\"Signature matrix:\")\n",
    "            print(sig)\n",
    "    return sig"
   ]
  },
  {
   "cell_type": "markdown",
   "metadata": {},
   "source": [
    "And below we use the code to build the minhash matrix for the first 500 tweets."
   ]
  },
  {
   "cell_type": "code",
   "execution_count": 24,
   "metadata": {
    "collapsed": true
   },
   "outputs": [],
   "source": [
    "import json\n",
    "def get_tweets(ntweets):\n",
    "    with open('../assignments/10000 tweets-NEW.json', encoding='iso8859-1') as jfile:\n",
    "        result = dict()\n",
    "        i = 0\n",
    "        for line in jfile:\n",
    "            if i >= ntweets:\n",
    "                break\n",
    "            try:\n",
    "                next_tweet = json.loads(line)\n",
    "                tweet_id = next_tweet['id']\n",
    "                tweet_body = next_tweet['body']\n",
    "            except:\n",
    "                continue\n",
    "            result[tweet_id] = tweet_body\n",
    "            i += 1\n",
    "    return result"
   ]
  },
  {
   "cell_type": "code",
   "execution_count": 25,
   "metadata": {
    "collapsed": true
   },
   "outputs": [],
   "source": [
    "tweets_500 = get_tweets(500)"
   ]
  },
  {
   "cell_type": "code",
   "execution_count": 26,
   "metadata": {
    "collapsed": true
   },
   "outputs": [],
   "source": [
    "def my_hash(item, target_range):\n",
    "    return hash(item) % target_range"
   ]
  },
  {
   "cell_type": "code",
   "execution_count": 27,
   "metadata": {
    "collapsed": true
   },
   "outputs": [],
   "source": [
    "k = 9\n",
    "target_range = 1000000\n",
    "kshingles = [k_hash_shingle(tweets_500[t_id], k, my_hash, target_range) \n",
    "             for t_id in tweets_500]"
   ]
  },
  {
   "cell_type": "code",
   "execution_count": 28,
   "metadata": {
    "collapsed": false
   },
   "outputs": [],
   "source": [
    "sig = minhash(kshingles, permute_hash, 100, target_range)"
   ]
  },
  {
   "cell_type": "markdown",
   "metadata": {},
   "source": [
    "But let's try the code using the sample from the notebook of week 7. In this sample, we only use two hashes and four sets of hashed kshingles."
   ]
  },
  {
   "cell_type": "code",
   "execution_count": 29,
   "metadata": {
    "collapsed": false
   },
   "outputs": [
    {
     "data": {
      "text/plain": [
       "array([[ 1.,  3.,  0.,  1.],\n",
       "       [ 0.,  2.,  0.,  0.]])"
      ]
     },
     "execution_count": 29,
     "metadata": {},
     "output_type": "execute_result"
    }
   ],
   "source": [
    "def simple_permute_hash(x, index, target_range):\n",
    "    if index == 0:\n",
    "        return (x + 1) % target_range\n",
    "    else:\n",
    "        return (3*x + 1) % target_range\n",
    "    \n",
    "kshingles = [{0, 3}, {2}, {1, 3, 4}, {0, 2, 3}]\n",
    "minhash(kshingles, simple_permute_hash, 2, 5)"
   ]
  },
  {
   "cell_type": "markdown",
   "metadata": {},
   "source": [
    "### Exercise 3: Map by individual sets of k-shingles.\n",
    "Let's implement a MapReduce where the map function processes one set of k-shingles."
   ]
  },
  {
   "cell_type": "code",
   "execution_count": 36,
   "metadata": {
    "collapsed": true
   },
   "outputs": [],
   "source": [
    "def mapper(key, ks, permute_hash_function, nhashes, target_range):\n",
    "    # Write your code here\n",
    "    return []\n",
    "\n",
    "def reducer(key, values):\n",
    "    # Write your code here\n",
    "    return None"
   ]
  },
  {
   "cell_type": "code",
   "execution_count": 38,
   "metadata": {
    "collapsed": false
   },
   "outputs": [
    {
     "name": "stdout",
     "output_type": "stream",
     "text": [
      "Set 0\n",
      "[[ 1.]\n",
      " [ 0.]]\n",
      "Set 1\n",
      "[[ 3.]\n",
      " [ 2.]]\n",
      "Set 2\n",
      "[[ 0.]\n",
      " [ 0.]]\n",
      "Set 3\n",
      "[[ 1.]\n",
      " [ 0.]]\n"
     ]
    }
   ],
   "source": [
    "mr_data = dict()\n",
    "for i, ks in enumerate(kshingles):\n",
    "    mr_data[i] = ks\n",
    "result = map_reduce(mr_data, \n",
    "                    lambda key, value: mapper(key, value, simple_permute_hash, 2, 5),\n",
    "                    reducer)\n",
    "for key, value in result:\n",
    "    print(\"Set %i\" % key)\n",
    "    print(value)"
   ]
  },
  {
   "cell_type": "markdown",
   "metadata": {},
   "source": [
    "### Exercise 4: Using a combiner\n",
    "The following variant uses a **combiner** so that the mapper will process several sets."
   ]
  },
  {
   "cell_type": "code",
   "execution_count": 39,
   "metadata": {
    "collapsed": true
   },
   "outputs": [],
   "source": [
    "def mapper(key, kshingles, permute_hash_function, nhashes, target_range):\n",
    "    # Write your code here\n",
    "    return []\n",
    "\n",
    "def reducer(key, values):\n",
    "    # Write your code here\n",
    "    return None"
   ]
  },
  {
   "cell_type": "code",
   "execution_count": 41,
   "metadata": {
    "collapsed": false
   },
   "outputs": [
    {
     "name": "stdout",
     "output_type": "stream",
     "text": [
      "Group set 0\n",
      "[array([[ 1.,  3.],\n",
      "       [ 0.,  2.]])]\n",
      "Group set 1\n",
      "[array([[ 0.,  1.],\n",
      "       [ 0.,  0.]])]\n"
     ]
    }
   ],
   "source": [
    "mr_data = dict()\n",
    "mr_data[0] = kshingles[0:2]\n",
    "mr_data[1] = kshingles[2:4]\n",
    "result = map_reduce(mr_data, \n",
    "                    lambda key, value: mapper(key, value, simple_permute_hash, 2, 5),\n",
    "                    reducer)\n",
    "for key, value in result:\n",
    "    print(\"Group set %i\" % key)\n",
    "    print(value)"
   ]
  },
  {
   "cell_type": "markdown",
   "metadata": {},
   "source": [
    "## Example: A-priori\n",
    "Let's implement the two passes of the A-priori algorithm using MapReduce. Recall the two passes of the A-Priori algorithm:\n",
    "\n",
    "1. Pass 1: count single items\n",
    "    1.1. For each basket:\n",
    "        1.1.1. For each item in basket:\n",
    "            1.1.1.1. Increment item's count. \n",
    "            \n",
    "2. Pass 2: count item pairs\n",
    "    2.1. For each basket:\n",
    "        2.1.1 For each pair (i,j) of items in the basket:\n",
    "            2.1.1.1 If both i and j are frequent:\n",
    "                2.1.1.1.1 Increment count for (i,j)"
   ]
  },
  {
   "cell_type": "markdown",
   "metadata": {},
   "source": [
    "### Exercise 5: Pass 1\n",
    "This is very much the same as word counting at the beginning of this notebook but now the reducer will return a value only if the sum is larger than the support."
   ]
  },
  {
   "cell_type": "code",
   "execution_count": 47,
   "metadata": {
    "collapsed": false
   },
   "outputs": [
    {
     "data": {
      "text/plain": [
       "{'blue': True,\n",
       " 'green': False,\n",
       " 'orange': True,\n",
       " 'red': True,\n",
       " 'white': True,\n",
       " 'yellow': False}"
      ]
     },
     "execution_count": 47,
     "metadata": {},
     "output_type": "execute_result"
    }
   ],
   "source": [
    "def mapper(key, basket):\n",
    "    # Write your code here\n",
    "    return []\n",
    "\n",
    "def reducer(key, counts, support):\n",
    "    # Write your code here\n",
    "    return None\n",
    "\n",
    "baskets = {1: ('red', 'white', 'green'),\n",
    "           2: ('white', 'orange'),\n",
    "           3: ('white', 'blue'),\n",
    "           4: ('red', 'white', 'orange'),\n",
    "           5: ('red', 'blue'),\n",
    "           6: ('white', 'blue'),\n",
    "           7: ('white', 'orange'),\n",
    "           8: ('red', 'white', 'blue', 'green'),\n",
    "           9: ('red', 'white', 'blue'),\n",
    "           10: ('yellow', )}\n",
    "\n",
    "pass1 = map_reduce(baskets, mapper, lambda k, v: reducer(k, v, 3))\n",
    "pass1 = dict(pass1)\n",
    "pass1"
   ]
  },
  {
   "cell_type": "markdown",
   "metadata": {},
   "source": [
    "### Exercise 6: Pass 2\n",
    "Very similar to pass 1, but the mapper will only count the pair if each item is frequent."
   ]
  },
  {
   "cell_type": "code",
   "execution_count": 49,
   "metadata": {
    "collapsed": false
   },
   "outputs": [
    {
     "data": {
      "text/plain": [
       "{('red', 'blue'): True,\n",
       " ('red', 'orange'): False,\n",
       " ('red', 'white'): True,\n",
       " ('white', 'blue'): True,\n",
       " ('white', 'orange'): True}"
      ]
     },
     "execution_count": 49,
     "metadata": {},
     "output_type": "execute_result"
    }
   ],
   "source": [
    "import itertools\n",
    "\n",
    "def mapper(key, basket):\n",
    "    # Write your code here\n",
    "    return []\n",
    "\n",
    "def reducer(key, counts, support):\n",
    "    # Write your code here\n",
    "    return None\n",
    "\n",
    "pass2 = map_reduce(baskets, mapper, lambda k, v: reducer(k, v, 3))\n",
    "pass2 = dict(pass2)\n",
    "pass2"
   ]
  },
  {
   "cell_type": "code",
   "execution_count": null,
   "metadata": {
    "collapsed": true
   },
   "outputs": [],
   "source": []
  }
 ],
 "metadata": {
  "kernelspec": {
   "display_name": "IPython (Python 3)",
   "language": "python",
   "name": "python3"
  },
  "language_info": {
   "codemirror_mode": {
    "name": "ipython",
    "version": 3
   },
   "file_extension": ".py",
   "mimetype": "text/x-python",
   "name": "python",
   "nbconvert_exporter": "python",
   "pygments_lexer": "ipython3",
   "version": "3.6.0"
  }
 },
 "nbformat": 4,
 "nbformat_minor": 2
}
