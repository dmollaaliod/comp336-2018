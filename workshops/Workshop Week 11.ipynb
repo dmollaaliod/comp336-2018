{
 "cells": [
  {
   "cell_type": "markdown",
   "metadata": {},
   "source": [
    "# Workshop Week 11"
   ]
  },
  {
   "cell_type": "markdown",
   "metadata": {},
   "source": [
    "## K-Nearest Neighbours\n",
    "\n",
    "The following exercises will let you practice with K-nearest neighbours using the Jaccard similarity. **This material is also related to the contents of week 7 and will help you with task 2 of assignment 3**."
   ]
  },
  {
   "cell_type": "markdown",
   "metadata": {},
   "source": [
    "The following code reads the Brown corpus from NLTK. The Brown corpus is a collection of documents classified by categories. We will attempt to predict the category of a document using K-Nearest Neighbours using the Jaccard similarity."
   ]
  },
  {
   "cell_type": "code",
   "execution_count": 1,
   "metadata": {
    "collapsed": false
   },
   "outputs": [
    {
     "name": "stdout",
     "output_type": "stream",
     "text": [
      "[nltk_data] Downloading package brown to /home/diego/nltk_data...\n",
      "[nltk_data]   Package brown is already up-to-date!\n"
     ]
    },
    {
     "data": {
      "text/plain": [
       "True"
      ]
     },
     "execution_count": 1,
     "metadata": {},
     "output_type": "execute_result"
    }
   ],
   "source": [
    "import nltk\n",
    "nltk.download('brown')"
   ]
  },
  {
   "cell_type": "markdown",
   "metadata": {},
   "source": [
    "The following code shows the categories of the Brown corpus."
   ]
  },
  {
   "cell_type": "code",
   "execution_count": 2,
   "metadata": {
    "collapsed": false
   },
   "outputs": [
    {
     "data": {
      "text/plain": [
       "['adventure',\n",
       " 'belles_lettres',\n",
       " 'editorial',\n",
       " 'fiction',\n",
       " 'government',\n",
       " 'hobbies',\n",
       " 'humor',\n",
       " 'learned',\n",
       " 'lore',\n",
       " 'mystery',\n",
       " 'news',\n",
       " 'religion',\n",
       " 'reviews',\n",
       " 'romance',\n",
       " 'science_fiction']"
      ]
     },
     "execution_count": 2,
     "metadata": {},
     "output_type": "execute_result"
    }
   ],
   "source": [
    "from nltk.corpus import brown\n",
    "brown.categories()"
   ]
  },
  {
   "cell_type": "markdown",
   "metadata": {},
   "source": [
    "The following code shows the number of files in the `adventure` category, and displays the words of one of the files."
   ]
  },
  {
   "cell_type": "code",
   "execution_count": 3,
   "metadata": {
    "collapsed": false
   },
   "outputs": [
    {
     "data": {
      "text/plain": [
       "29"
      ]
     },
     "execution_count": 3,
     "metadata": {},
     "output_type": "execute_result"
    }
   ],
   "source": [
    "adventure = brown.fileids(categories='adventure')\n",
    "len(adventure)"
   ]
  },
  {
   "cell_type": "code",
   "execution_count": 4,
   "metadata": {
    "collapsed": false
   },
   "outputs": [
    {
     "data": {
      "text/plain": [
       "['Dan', 'Morgan', 'told', 'himself', 'he', 'would', ...]"
      ]
     },
     "execution_count": 4,
     "metadata": {},
     "output_type": "execute_result"
    }
   ],
   "source": [
    "brown.words(fileids=adventure[0])"
   ]
  },
  {
   "cell_type": "markdown",
   "metadata": {},
   "source": [
    "You can use the following function to reconstruct the text from the list of words. The code simply joins all the words using ' ' between the words."
   ]
  },
  {
   "cell_type": "code",
   "execution_count": 5,
   "metadata": {
    "collapsed": true
   },
   "outputs": [],
   "source": [
    "def get_text(fileid):\n",
    "    words = brown.words(fileids=fileid)\n",
    "    return ' '.join(words)"
   ]
  },
  {
   "cell_type": "code",
   "execution_count": 6,
   "metadata": {
    "collapsed": false
   },
   "outputs": [
    {
     "data": {
      "text/plain": [
       "\"Dan Morgan told himself he would forget Ann Turner . He was well rid of her . He certainly didn't want a wife who was fickle as Ann . If he had married her , he'd have been asking for trouble . But all of this was rationalization . Sometimes he woke up in the middle of the night thinking of Ann , and then could not get back to sleep . His plans and dreams had revolved around her so much and for so long that now he felt as if he had nothing . The easiest thing would be to sell out to Al Budd and leave the country , but there was a stubborn streak in him that wouldn't allow it . The best antidote for the bitterness and disappointment that poisoned him was hard work . He found that if he was tired enough at night , he went to sleep simply because he was too exhausted to stay awake . Each day he found himself thinking less often of Ann ; ; each day the hurt was a little duller , a little less poignant . He had plenty of work to do . Because the summer was unusually dry and hot , the spring produced a smaller stream than in ordinary years . The grass in the meadows came fast , now that the warm weather was here . He could not afford to lose a drop of the precious water , so he spent most of his waking hours along the ditches in his meadows . He had no idea how much time Budd would give him . In any case , he had no intention of being caught asleep , so he carried his revolver in its holster on his hip and he took his Winchester with him and leaned it against the fence . He stopped every few minutes and leaned on his shovel as he studied the horizon , but nothing happened , each day dragging out with monotonous calm . When , in late afternoon on the last day in June , he saw two people top the ridge to the south and walk toward the house , he quit work immediately and strode to his rifle . It could be some kind of trick Budd had thought up . No one walked in this country , least of all Ed Dow or Dutch Renfro or any of the rest of the Bar B crew . Morgan watched the two figures for a time , puzzled . When they were closer and he saw that one was a woman , he was more puzzled than ever . He cleaned his shovel , left it against the fence , picked up his Winchester , and started downstream . His visitors had crawled through the south fence and were crossing the meadow , angling toward the house . Now he saw that both the man and woman were moving slowly and irregularly , staggering , as if they found it a struggle to remain on their feet . Reaching the house ahead of them , he waited with his Winchester in his hands . They crawled through the north fence and came on toward him , and now he saw that both were young , not more than nineteen or twenty . They were dirty , their clothes were torn , and the girl was so exhausted that she fell when she was still twenty feet from the front door . She lay there , making no effort to get back on her feet . The boy came on to the porch and sat down , his gaze on Morgan as if half expecting him to shoot and not really caring . Morgan hesitated , thinking that if this was a trick , it was a good one . He didn't think it was possible for this couple to be pretending . The boy licked his dry lips . He asked , `` Could we have a drink '' ? ? Morgan jerked his head toward the front door . `` In the kitchen '' , he said . Leaning his Winchester against the front of the house , he walked to the girl . `` Get up . There's water in the house '' . She didn't move or say anything . Her eyes were glazed as if she didn't hear or even see him . She had reached a point at which she didn't even care how she looked . Her face was very thin , and burned by the sun until much of the skin was dead and peeling , the new skin under it red and angry . Her blond hair was frowzy , her dress torn in several places , and her shoes were so completely worn out that they were practically no protection . It must have hurt her even to walk , for the sole was completely off her left foot and Morgan saw that it was bruised and bleeding . He picked her up , sliding one hand under her shoulders , the other under her knees , and carried her into the house . She was amazingly light , and so relaxed in his arms that he wasn't even sure she was conscious . Any lingering suspicion that this was a trick Al Budd had thought up was dispelled . No girl would go this far to fool a man so she could kill him . Besides , she had a sweet face that attracted him . He put her down on the couch , and going into the kitchen , saw that the boy had dropped into a chair beside the table . They looked a good deal alike , Morgan thought . Both had blonde hair and blue eyes , and there was even a faint similarity of features . Morgan filled the dipper from the water bucket on the shelf , went back into the front room , lifted the girl's head , and held the edge of the dipper to her mouth . She drank greedily , and murmured , `` Thank you '' , as he lowered her head . He stood looking down at her for a moment , wondering what could have reduced her to this condition . He had seen a few nester wagons go through the country , the families almost starving to death , but he had never seen any of them on foot and as bad off as these two . The girl dropped off to sleep . Morgan returned to the kitchen , built a fire , and carried in several buckets of water from the spring which he poured into the copper boiler that he had placed on the stove . He brought his Winchester in from the front of the house , then faced the boy . `` Who are you and what happened to you '' ? ? He asked . `` I'm Billy Jones '' , the boy answered . `` That's my wife Sharon . We ran out of money and we haven't eaten for two days '' . `` What are you doing here '' ? ? `` Are we in Wyoming '' ? ? Morgan nodded . `` About five miles north of the line '' . Jones sighed as if relieved . `` We've been looking for work , but all the ranchers have turned us down '' . `` You mean you dragged your wife all over hell's half-acre looking for work '' ? ? Morgan demanded . `` The town of Buckhorn's only about six miles from here . Why didn't you go there '' ? ? `` We didn't want town work '' , Jones said . `` This is a mighty empty country '' , Morgan said . `` There's only one more ranch three miles north of here . You'd have starved to death if you'd missed both places '' . `` Then we're lucky we got here . Could you give us a job , Mr. '' `` Morgan . Dan Morgan '' . He was silent a moment , thinking he could use a man this time of year , and if the girl could cook , it would give him more time in the meadows , but he knew nothing about the couple . They might kill him in his sleep , thinking there was money in the house . He dismissed the possibility at once . The girl's thin face haunted him . It wasn't the face of a killer . He wasn't so sure about the boy . He hadn't shaved for several weeks , his sparse beard giving his face a pathetic , woebegone expression . There was more to this than Jones had told him . They were running from something . He'd be an idiot to let them stay he thought , but he couldn't send them on , either . `` I could use some help '' , Morgan said finally , `` but I can't afford to pay you anything . I guess you'd better go on in the morning '' . `` We'll work for our keep '' , the boy said eagerly . `` I've been mucking in a mine in the San Juan , but I used to work on a ranch . Sharon , she's cooked in a restaurant . We'll work hard , Mr. Morgan '' . `` I'll see '' , Morgan said . `` Right now you need a meal and a bath . Your wife's in terrible shape '' . `` I know '' , Jones said dejectedly . Morgan filled the fire box with wood again , then started supper and set the table . When the meal was ready , he told Jones to wash up , and going into the front room , woke the girl . He said , `` I've got some supper ready '' . She rubbed her eyes and stretched , then sat up , her hands going to her hair . `` I'm a mess '' , she said , and suddenly she was alarmed . `` Who are you ? ? How did we get here '' ? ? `` I'm Dan Morgan . This is the Rafter Aj . You fell down in front of the house , and I carried you in . I gave you a drink and then you went to sleep '' . `` Oh '' . She stared at him , her eyes wide as she thought about what he had said ; ; then she murmured : `` You're very kind , Mr. Morgan . Do you take in all the strays who come by '' ? ? `` I don't have many strays coming to my front door '' , he said . `` Think you can walk to the table '' ? ? `` Of course '' . She got to her feet , staggered , and almost fell . He caught her by an arm and helped her into the kitchen . She sat down at the table , shaking her head . `` I'm sorry , Mr. Morgan . I'm usually a very strong woman , but I'm awfully tired '' . `` And hungry '' , he said . `` Start in . It's not much of a meal , but it's what I eat '' . `` Not much of a meal '' ? ? The girl cried . `` Mr. Morgan , it's the best-looking food I ever saw '' . He told himself he had never seen two people eat so much . When they were finally satisfied , Jones said , `` I think he's going to give us work '' . The grateful way she looked at Morgan made him ashamed of himself . When he saw the expression in her eyes , he knew he couldn't send them on . She said , `` I guess the Lord looks out for fools , drunkards , and innocents '' . Morgan laughed . `` Which are you '' ? ? `` We're not drunkards '' , she said . `` That's all I'm sure of '' . She helped him with the dishes , then he brought more water in from the spring before it got dark . He carried the tub from the back of the house where it hung from a nail in the wall . He said : `` You'll feel a lot better after you have a bath . Your feet are in bad shape , Mrs. Jones . You'll have to go to town to see the doc '' . `` No , she'll be all right '' , Jones said quickly . `` I mean , we don't have any way to get there and we can't expect you to quit work just to take us to town '' . `` We'll see '' , Morgan said . `` Could you find me a needle and thread '' ? ? The girl asked . `` My dress needs some work on it '' . He nodded and , going into the bedroom , brought a needle , thread , and scissors . He said : `` I'm going to bed '' . He nodded at the door in front of him . `` That's my spare bedroom . The bed isn't made , but you'll find plenty of blankets there '' . `` You're awfully kind '' , the girl said . `` We'll pay you back if you'll let us . Some way '' . `` It's all right '' , he said . `` I get up early . You'd better sleep '' . Jones followed him into the front room , closing the door behind him . He said : `` If it's all right with you , Mr. Morgan , I'll sleep out here on the couch . We haven't slept together since we started . I just can't take any chances on getting her pregnant , and if we were sleeping together '' He stopped , embarrassed , and Morgan said , `` I understand that , but I don't savvy why you'd go off and leave your jobs in the first place '' . `` We got fired '' , Jones said . `` We had to do something '' . They were a pair of lost , whipped kids , Morgan thought as he went to bed .\""
      ]
     },
     "execution_count": 6,
     "metadata": {},
     "output_type": "execute_result"
    }
   ],
   "source": [
    "get_text(adventure[0])"
   ]
  },
  {
   "cell_type": "markdown",
   "metadata": {},
   "source": [
    "Finally, the following code partitions the data into a training set and a test set."
   ]
  },
  {
   "cell_type": "code",
   "execution_count": 7,
   "metadata": {
    "collapsed": false
   },
   "outputs": [
    {
     "data": {
      "text/plain": [
       "500"
      ]
     },
     "execution_count": 7,
     "metadata": {},
     "output_type": "execute_result"
    }
   ],
   "source": [
    "import random\n",
    "random.seed(1234)\n",
    "dataset = [(fileid, category) for category in brown.categories()\n",
    "                              for fileid in brown.fileids(categories=category)]\n",
    "random.shuffle(dataset)\n",
    "len(dataset)"
   ]
  },
  {
   "cell_type": "code",
   "execution_count": 8,
   "metadata": {
    "collapsed": true
   },
   "outputs": [],
   "source": [
    "train = dataset[:400]\n",
    "test = dataset[400:]"
   ]
  },
  {
   "cell_type": "markdown",
   "metadata": {},
   "source": [
    "## Exercise 1 - kshingles\n",
    "Compute the kshingles of the training data set and store them in a variable. Write your code so that you can easily change $k$. As a default, use $k=3$. In an exercise later you will experiment with other values of $k$."
   ]
  },
  {
   "cell_type": "code",
   "execution_count": null,
   "metadata": {
    "collapsed": true
   },
   "outputs": [],
   "source": [
    "# Write your code here"
   ]
  },
  {
   "cell_type": "markdown",
   "metadata": {},
   "source": [
    "## Exercise 2 - K-nearest neighbours\n",
    "Write code that searches the kshingles of the training data set to find the category of the 1-nearest neighbour of a given text using the Jaccard similarity. "
   ]
  },
  {
   "cell_type": "code",
   "execution_count": 13,
   "metadata": {
    "collapsed": true
   },
   "outputs": [],
   "source": [
    "def find_nearest(text, k):\n",
    "    \"\"\"Return the category of the file from the training set that has \n",
    "       highest jaccard similarity. k is the shingle size.\"\"\"\n",
    "    # Write your code here and modify the return statement\n",
    "    return ''"
   ]
  },
  {
   "cell_type": "markdown",
   "metadata": {},
   "source": [
    "Use the following code to check your results."
   ]
  },
  {
   "cell_type": "code",
   "execution_count": 14,
   "metadata": {
    "collapsed": false
   },
   "outputs": [
    {
     "data": {
      "text/plain": [
       "('cf18', 'lore')"
      ]
     },
     "execution_count": 14,
     "metadata": {},
     "output_type": "execute_result"
    }
   ],
   "source": [
    "train[0]"
   ]
  },
  {
   "cell_type": "code",
   "execution_count": 16,
   "metadata": {
    "collapsed": false
   },
   "outputs": [
    {
     "data": {
      "text/plain": [
       "'lore'"
      ]
     },
     "execution_count": 16,
     "metadata": {},
     "output_type": "execute_result"
    }
   ],
   "source": [
    "find_nearest(get_text('cf18'), 3)"
   ]
  },
  {
   "cell_type": "code",
   "execution_count": 17,
   "metadata": {
    "collapsed": false
   },
   "outputs": [
    {
     "data": {
      "text/plain": [
       "('cf25', 'lore')"
      ]
     },
     "execution_count": 17,
     "metadata": {},
     "output_type": "execute_result"
    }
   ],
   "source": [
    "test[0]"
   ]
  },
  {
   "cell_type": "code",
   "execution_count": 18,
   "metadata": {
    "collapsed": false
   },
   "outputs": [
    {
     "data": {
      "text/plain": [
       "'government'"
      ]
     },
     "execution_count": 18,
     "metadata": {},
     "output_type": "execute_result"
    }
   ],
   "source": [
    "find_nearest(get_text('cf25'), 3)"
   ]
  },
  {
   "cell_type": "markdown",
   "metadata": {},
   "source": [
    "## Exercise 3 - Finding optimal value of k for kshingles\n",
    "The following code returns the accuracy of your KNN classifier on the test set. Using this code, try with various values of shingle sizes and determine which one gives the best accuracy."
   ]
  },
  {
   "cell_type": "code",
   "execution_count": 19,
   "metadata": {
    "collapsed": true
   },
   "outputs": [],
   "source": [
    "def accuracy(k):\n",
    "    \" Return the accuracy using shingles of size k\"\n",
    "    correct = 0\n",
    "    for t, c in test:\n",
    "        predicted_c = find_nearest(get_text(t), k)\n",
    "        if predicted_c == c:\n",
    "            correct += 1\n",
    "    return correct / len(test)"
   ]
  },
  {
   "cell_type": "code",
   "execution_count": 20,
   "metadata": {
    "collapsed": false
   },
   "outputs": [
    {
     "data": {
      "text/plain": [
       "0.36"
      ]
     },
     "execution_count": 20,
     "metadata": {},
     "output_type": "execute_result"
    }
   ],
   "source": [
    "accuracy(3)"
   ]
  },
  {
   "cell_type": "code",
   "execution_count": null,
   "metadata": {
    "collapsed": false
   },
   "outputs": [],
   "source": [
    "# Write your code here"
   ]
  },
  {
   "cell_type": "markdown",
   "metadata": {},
   "source": [
    "## Exercise 4 - Minhashing\n",
    "Repeat exercise 2 but now use minhashing. Use the code of exercise 3 to determine the optimal parameters."
   ]
  },
  {
   "cell_type": "code",
   "execution_count": null,
   "metadata": {
    "collapsed": true
   },
   "outputs": [],
   "source": [
    "# Write your code here"
   ]
  }
 ],
 "metadata": {
  "kernelspec": {
   "display_name": "IPython (Python 3)",
   "language": "python",
   "name": "python3"
  },
  "language_info": {
   "codemirror_mode": {
    "name": "ipython",
    "version": 3
   },
   "file_extension": ".py",
   "mimetype": "text/x-python",
   "name": "python",
   "nbconvert_exporter": "python",
   "pygments_lexer": "ipython3",
   "version": "3.6.0"
  }
 },
 "nbformat": 4,
 "nbformat_minor": 2
}
