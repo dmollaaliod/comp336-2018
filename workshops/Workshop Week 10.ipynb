{
 "cells": [
  {
   "cell_type": "markdown",
   "metadata": {},
   "source": [
    "# Workshop Week 1"
   ]
  },
  {
   "cell_type": "markdown",
   "metadata": {},
   "source": [
    "## Finding Frequent Itemsets\n",
    "The following exercises are based on exercises 6.1.1 (page 205), 6.1.5 (page 206) and 6.2.6 (page 215) of the textbook at http://www.mmds.org. Please attempt the exercises on paper, without using a computer or calculator. **Remember that in the exam you will not have access to computer or calculators.**"
   ]
  },
  {
   "cell_type": "markdown",
   "metadata": {},
   "source": [
    "Suppose there are 100 items, numbered 1 to 100, and also 100 baskets, also numbered 1 to 100. Item $i$ is in basket $b$ if and only if $i$ divides $b$ with no remainder. Thus, item 1 is in all the baskets, item 2 is in all fifty of the\n",
    "even-numbered baskets, and so on. Basket 12 consists of items {1, 2, 3, 4, 6, 12}, since these are all the integers that divide 12."
   ]
  },
  {
   "cell_type": "markdown",
   "metadata": {},
   "source": [
    "### Exercise 1  (exercise 6.1.1 of textbook)\n",
    "If the support threshold is 5, which items are frequent?"
   ]
  },
  {
   "cell_type": "markdown",
   "metadata": {},
   "source": []
  },
  {
   "cell_type": "markdown",
   "metadata": {},
   "source": [
    "### Exercise 2 (exercise 6.1.5 of textbook)\n",
    "What is the confidence of the following association rules?\n",
    "\n",
    "1. if $\\{5,7\\}$, then $\\{2\\}$\n",
    "2. if $\\{2,3,4\\}$, then $\\{5\\}$"
   ]
  },
  {
   "cell_type": "markdown",
   "metadata": {},
   "source": []
  },
  {
   "cell_type": "markdown",
   "metadata": {},
   "source": [
    "### Exercise 3 (exercise 6.2.6 of textbook)\n",
    "Apply the A-Priori algorithm with support threshold 5."
   ]
  },
  {
   "cell_type": "markdown",
   "metadata": {},
   "source": []
  },
  {
   "cell_type": "markdown",
   "metadata": {},
   "source": [
    "## Using the PCY Algorithm\n",
    "This exercise is based on exercise 6.3.1 of the textbook (page 222). To answer this exercise you may choose to work on paper or write code that will help you find the answers."
   ]
  },
  {
   "cell_type": "markdown",
   "metadata": {},
   "source": [
    "Here is a collection of 12 baskets. Each contains three of the six items 1 through 6.\n",
    "$$\n",
    "\\begin{array}{cccc}\n",
    "\\{1, 2, 3\\} & \\{2, 3, 4\\} & \\{3, 4, 5\\} & \\{4, 5, 6\\}\\\\\n",
    "\\{1, 3, 5\\} & \\{2, 4, 6\\} & \\{1, 3, 4\\} & \\{2, 4, 5\\}\\\\\n",
    "\\{3, 5, 6\\} & \\{1, 2, 4\\} & \\{2, 3, 5\\} & \\{3, 4, 6\\}\\\\\n",
    "\\end{array}\n",
    "$$\n",
    "Suppose the support threshold is 4. On the first pass of the PCY Algorithm\n",
    "we use a hash table with 11 buckets, and the set $\\{i, j\\}$ is hashed to bucket ($i$*$j$) % 11."
   ]
  },
  {
   "cell_type": "markdown",
   "metadata": {},
   "source": [
    "Implement pass 1 of PCY algorithm and answer the following questions.\n",
    "\n",
    "1. What is the support for each item?\n",
    "3. Which buckets are frequent?\n",
    "4. Which pairs are counted on the second pass of the PCY algorithm?"
   ]
  },
  {
   "cell_type": "code",
   "execution_count": 3,
   "metadata": {
    "collapsed": true
   },
   "outputs": [],
   "source": [
    "baskets = [(1,2,3),(1,3,5),(3,5,6),(2,3,4),(2,4,6),(1,2,4),\n",
    "           (3,4,5),(1,3,4),(2,3,5),(4,5,6),(2,4,5),(3,4,6)]"
   ]
  },
  {
   "cell_type": "code",
   "execution_count": null,
   "metadata": {
    "collapsed": true
   },
   "outputs": [],
   "source": []
  }
 ],
 "metadata": {
  "kernelspec": {
   "display_name": "Python 3",
   "language": "python",
   "name": "python3"
  },
  "language_info": {
   "codemirror_mode": {
    "name": "ipython",
    "version": 3
   },
   "file_extension": ".py",
   "mimetype": "text/x-python",
   "name": "python",
   "nbconvert_exporter": "python",
   "pygments_lexer": "ipython3",
   "version": "3.6.0"
  }
 },
 "nbformat": 4,
 "nbformat_minor": 2
}
