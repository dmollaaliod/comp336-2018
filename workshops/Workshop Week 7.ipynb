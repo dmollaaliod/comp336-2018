{
 "cells": [
  {
   "cell_type": "markdown",
   "metadata": {
    "deletable": true,
    "editable": true
   },
   "source": [
    "# Workshop Week 7 - Minhashing\n",
    "\n",
    "In this workshop you will practice with various exercises related to techniques to determine the similarity between large collections of documents. Read the lecture material related to week 7. Some of the exercises in this workshop were mentioned in the lecture.\n",
    "\n",
    "For this exercise you will use the documents in the NLTK Gutenberg corpus. The following code demonstrates how to read the documents of the Gutenberg corpus."
   ]
  },
  {
   "cell_type": "code",
   "execution_count": 1,
   "metadata": {
    "collapsed": false,
    "deletable": true,
    "editable": true
   },
   "outputs": [
    {
     "name": "stdout",
     "output_type": "stream",
     "text": [
      "[nltk_data] Downloading package gutenberg to /root/nltk_data...\n",
      "[nltk_data]   Unzipping corpora/gutenberg.zip.\n"
     ]
    },
    {
     "data": {
      "text/plain": [
       "True"
      ]
     },
     "execution_count": 1,
     "metadata": {},
     "output_type": "execute_result"
    }
   ],
   "source": [
    "import nltk\n",
    "nltk.download('gutenberg')"
   ]
  },
  {
   "cell_type": "code",
   "execution_count": 2,
   "metadata": {
    "collapsed": false,
    "deletable": true,
    "editable": true
   },
   "outputs": [
    {
     "data": {
      "text/plain": [
       "['austen-emma.txt',\n",
       " 'austen-persuasion.txt',\n",
       " 'austen-sense.txt',\n",
       " 'bible-kjv.txt',\n",
       " 'blake-poems.txt',\n",
       " 'bryant-stories.txt',\n",
       " 'burgess-busterbrown.txt',\n",
       " 'carroll-alice.txt',\n",
       " 'chesterton-ball.txt',\n",
       " 'chesterton-brown.txt',\n",
       " 'chesterton-thursday.txt',\n",
       " 'edgeworth-parents.txt',\n",
       " 'melville-moby_dick.txt',\n",
       " 'milton-paradise.txt',\n",
       " 'shakespeare-caesar.txt',\n",
       " 'shakespeare-hamlet.txt',\n",
       " 'shakespeare-macbeth.txt',\n",
       " 'whitman-leaves.txt']"
      ]
     },
     "execution_count": 2,
     "metadata": {},
     "output_type": "execute_result"
    }
   ],
   "source": [
    "from nltk.corpus import gutenberg\n",
    "gutenberg.fileids()"
   ]
  },
  {
   "cell_type": "markdown",
   "metadata": {
    "deletable": true,
    "editable": true
   },
   "source": [
    "The previous code lists all the documents of the Gutenberg corpus. You can see that it is a very small collection but it will suffice for the exercises in this workshop. The following code shows how you can read the text of one document."
   ]
  },
  {
   "cell_type": "code",
   "execution_count": 3,
   "metadata": {
    "collapsed": false,
    "deletable": true,
    "editable": true
   },
   "outputs": [
    {
     "data": {
      "text/plain": [
       "'[Emma by Jane Austen 1816]\\n\\nVOLUME I\\n\\nCHAPTER I\\n\\n\\nEmma Woodhouse, handsome, clever, and rich, with a comfortable home\\nand happy disposition, seemed to unite some of the best blessings\\nof existence; an'"
      ]
     },
     "execution_count": 3,
     "metadata": {},
     "output_type": "execute_result"
    }
   ],
   "source": [
    "emma = gutenberg.raw('austen-emma.txt')\n",
    "emma[:200]"
   ]
  },
  {
   "cell_type": "markdown",
   "metadata": {
    "deletable": true,
    "editable": true
   },
   "source": [
    "## Shingling"
   ]
  },
  {
   "cell_type": "markdown",
   "metadata": {
    "deletable": true,
    "editable": true
   },
   "source": [
    "The following code can be used to find the set of k-shingles for a document."
   ]
  },
  {
   "cell_type": "code",
   "execution_count": 4,
   "metadata": {
    "collapsed": false,
    "deletable": true,
    "editable": true
   },
   "outputs": [],
   "source": [
    "def k_shingles(text, k):\n",
    "    return set(nltk.ngrams(text, k))"
   ]
  },
  {
   "cell_type": "code",
   "execution_count": 5,
   "metadata": {
    "collapsed": false,
    "deletable": true,
    "editable": true
   },
   "outputs": [
    {
     "data": {
      "text/plain": [
       "{('b', 'b', 'y'),\n",
       " ('p', 't', 'e'),\n",
       " ('\"', 'a', 'b'),\n",
       " ('e', 'l', '\\n'),\n",
       " ('n', ' ', 'L'),\n",
       " ('b', 'e', '?'),\n",
       " ('M', 'y', 's'),\n",
       " ('a', 'c', 'l'),\n",
       " ('e', '!', ' '),\n",
       " ('m', ' ', 't'),\n",
       " ('n', ' ', '_'),\n",
       " ('n', 'k', ','),\n",
       " ('s', 'i', 'o'),\n",
       " ('\\n', 'E', 'x'),\n",
       " ('!', ' ', 'L'),\n",
       " ('r', ')', ','),\n",
       " (\"'\", ' ', 'y'),\n",
       " ('-', 'I', ' '),\n",
       " (':', '\\n', '_'),\n",
       " ('_', '_', '_'),\n",
       " ('\"', 'b', 'u'),\n",
       " ('l', 'd', '?'),\n",
       " (' ', '\"', 'O'),\n",
       " ('\\n', 'c', 'a'),\n",
       " ('n', 'd', 'y'),\n",
       " ('i', 's', '\\n'),\n",
       " ('\\n', 'O', 'u'),\n",
       " ('m', ' ', '('),\n",
       " ('n', '\\n', 'd'),\n",
       " ('a', 'r', 'l'),\n",
       " ('e', ' ', 's'),\n",
       " (' ', ' ', 'i'),\n",
       " ('a', 'm', '\\n'),\n",
       " ('o', 'x', \"'\"),\n",
       " ('u', 'y', ','),\n",
       " ('c', 'e', \"'\"),\n",
       " ('d', 'a', 'b'),\n",
       " ('d', 'd', '!'),\n",
       " ('s', 'e', ','),\n",
       " ('e', 'a', 'c'),\n",
       " ('m', '\"', '-'),\n",
       " ('!', ' ', \"'\"),\n",
       " ('n', ';', '\\n'),\n",
       " ('h', ' ', 'J'),\n",
       " ('f', 'a', 'r'),\n",
       " ('o', 'n', '\"'),\n",
       " ('n', 'u', 'r'),\n",
       " ('h', '.', ')'),\n",
       " ('t', '\\n', 'u'),\n",
       " ('o', 'x', 'e'),\n",
       " (' ', 'g', 'r'),\n",
       " (' ', 'I', '?'),\n",
       " ('n', 'r', 'y'),\n",
       " (' ', '`', 't'),\n",
       " ('l', '\\n', 'k'),\n",
       " (' ', 'c', 'r'),\n",
       " ('-', 'a', '-'),\n",
       " ('r', 'i', 'l'),\n",
       " ('f', ' ', 'w'),\n",
       " ('r', 'y', '?'),\n",
       " ('d', 'e', '?'),\n",
       " ('n', ' ', 'm'),\n",
       " ('b', 't', '\\n'),\n",
       " ('a', 'd', 'b'),\n",
       " ('t', ',', '-'),\n",
       " ('W', 'a', 'l'),\n",
       " ('\\n', 'o', 'l'),\n",
       " ('o', '\\n', 'a'),\n",
       " ('-', '\\n', 'E'),\n",
       " ('e', ' ', 'F'),\n",
       " ('s', 's', \"'\"),\n",
       " ('l', 's', \"'\"),\n",
       " ('t', 'h', 'b'),\n",
       " ('y', 't', 'h'),\n",
       " ('W', 'i', 't'),\n",
       " ('f', '.', '\"'),\n",
       " ('u', 'n', '!'),\n",
       " ('?', ' ', 'w'),\n",
       " ('o', 't', 'h'),\n",
       " ('r', 'l', 'e'),\n",
       " ('f', 'i', 'r'),\n",
       " ('f', 'i', 'l'),\n",
       " ('r', 'k', 'e'),\n",
       " ('s', '-', 'b'),\n",
       " ('-', '(', 't'),\n",
       " ('g', 'e', '.'),\n",
       " ('T', 'a', 'k'),\n",
       " ('r', 's', '!'),\n",
       " ('o', 'r', 'g'),\n",
       " ('g', 'g', 's'),\n",
       " ('u', 'y', 'i'),\n",
       " ('n', 'o', 'c'),\n",
       " ('_', '_', ' '),\n",
       " ('g', 'r', 'u'),\n",
       " ('e', 'r', 'u'),\n",
       " ('u', 'r', '.'),\n",
       " (' ', 'S', 'k'),\n",
       " ('g', 'n', ' '),\n",
       " ('s', ' ', 'T'),\n",
       " ('i', 'e', 'l'),\n",
       " ('o', 't', ' '),\n",
       " ('a', '!', '-'),\n",
       " ('a', 'l', 'r'),\n",
       " ('_', 't', 'i'),\n",
       " ('o', 'o', 'r'),\n",
       " ('n', 't', 'f'),\n",
       " ('!', ' ', 'B'),\n",
       " ('e', 'x', 'q'),\n",
       " ('_', ' ', '_'),\n",
       " ('L', 'o', 'w'),\n",
       " ('r', 'd', \"'\"),\n",
       " ('t', '\\n', '('),\n",
       " ('y', '-', 'e'),\n",
       " ('c', 'e', 'f'),\n",
       " ('-', '-', 'M'),\n",
       " ('n', ' ', 'u'),\n",
       " ('e', 'g', 'e'),\n",
       " ('p', 'i', 'l'),\n",
       " ('t', ' ', 'd'),\n",
       " ('t', 'e', '?'),\n",
       " ('x', 'c', 'o'),\n",
       " ('k', 'e', ')'),\n",
       " ('A', 'D', 'E'),\n",
       " ('o', 'i', 'd'),\n",
       " ('h', 't', 'l'),\n",
       " ('\"', 't', 'h'),\n",
       " ('?', ' ', 'S'),\n",
       " ('T', 'i', 'm'),\n",
       " ('n', 'y', '!'),\n",
       " ('T', 'u', 'p'),\n",
       " ('\\n', '_', 'N'),\n",
       " ('s', 'h', 'f'),\n",
       " ('S', 'i', 'r'),\n",
       " ('h', 'y', ' '),\n",
       " ('t', 'e', ':'),\n",
       " (',', ' ', 'V'),\n",
       " ('y', 't', 'o'),\n",
       " ('n', 's', 'f'),\n",
       " ('v', 'i', 'e'),\n",
       " ('l', 't', 'e'),\n",
       " ('p', '-', 'g'),\n",
       " (',', ' ', 'c'),\n",
       " ('l', ' ', 'I'),\n",
       " ('n', 'k', 'n'),\n",
       " ('F', 'a', 'i'),\n",
       " ('e', 'r', 't'),\n",
       " ('\\n', '(', 's'),\n",
       " ('h', 'r', 'e'),\n",
       " ('r', 'a', 'i'),\n",
       " ('h', 'e', 'w'),\n",
       " ('t', 'o', '?'),\n",
       " ('n', 'b', 'r'),\n",
       " ('h', ' ', 'i'),\n",
       " ('c', 's', 't'),\n",
       " ('-', 'm', 'u'),\n",
       " (\"'\", ' ', 'u'),\n",
       " ('o', 'm', '!'),\n",
       " ('n', 'g', ' '),\n",
       " ('y', 'f', 'u'),\n",
       " ('M', 'r', 's'),\n",
       " ('m', 'e', ')'),\n",
       " ('r', '\\n', 'c'),\n",
       " ('e', 'y', 'i'),\n",
       " ('\\n', '\\n', 'T'),\n",
       " ('r', '.', ' '),\n",
       " ('S', 'h', 'e'),\n",
       " ('r', 'n', 's'),\n",
       " (' ', 's', 'y'),\n",
       " ('d', 'g', 'm'),\n",
       " ('e', 'm', '_'),\n",
       " ('h', '-', '-'),\n",
       " ('i', 's', 'd'),\n",
       " ('r', 'i', 'g'),\n",
       " ('l', 'e', 'f'),\n",
       " ('f', 'f', ','),\n",
       " ('n', ' ', 't'),\n",
       " ('f', ' ', 'D'),\n",
       " ('x', 'c', 'u'),\n",
       " ('g', 'e', '!'),\n",
       " ('m', ' ', 'h'),\n",
       " ('v', 'e', 'd'),\n",
       " ('e', ' ', 'z'),\n",
       " ('n', 'a', 'g'),\n",
       " ('l', \"'\", 'd'),\n",
       " ('\\n', 'e', 'a'),\n",
       " ('m', '_', ' '),\n",
       " ('a', 'm', 'e'),\n",
       " ('r', '\\n', 's'),\n",
       " ('\\n', 'O', 'r'),\n",
       " ('I', ' ', 'r'),\n",
       " ('G', 'o', 'd'),\n",
       " ('x', 'a', 't'),\n",
       " ('m', 'b', 'a'),\n",
       " ('k', '\\n', 'e'),\n",
       " ('e', 'p', 'l'),\n",
       " ('m', '.', '\"'),\n",
       " ('o', 'l', '-'),\n",
       " ('L', 'L', '.'),\n",
       " ('c', 'e', ' '),\n",
       " ('r', ')', '.'),\n",
       " ('i', 's', 'e'),\n",
       " ('B', 'o', 't'),\n",
       " (' ', 'v', 'a'),\n",
       " ('e', 'w', 'e'),\n",
       " (' ', '`', 'g'),\n",
       " (' ', 'B', 'a'),\n",
       " ('i', 'n', 'o'),\n",
       " ('\\n', 'A', 'h'),\n",
       " ('e', 'd', ':'),\n",
       " ('s', '.', '\\n'),\n",
       " ('e', 't', 'o'),\n",
       " ('l', '\\n', 'd'),\n",
       " ('d', ' ', 'T'),\n",
       " ('_', '-', '-'),\n",
       " ('m', 'i', 's'),\n",
       " ('p', '!', '-'),\n",
       " ('!', '\"', ' '),\n",
       " ('\\n', 'H', 'i'),\n",
       " ('T', 'o', 'w'),\n",
       " ('N', 'o', 't'),\n",
       " ('_', 'g', 'r'),\n",
       " (' ', 'g', 'u'),\n",
       " (\"'\", ' ', 't'),\n",
       " ('D', 'r', 'e'),\n",
       " ('s', ' ', 'B'),\n",
       " ('b', 'e', 'h'),\n",
       " ('g', 'u', 'r'),\n",
       " ('o', 'p', '\\n'),\n",
       " (')', '\\n', '\"'),\n",
       " ('b', 'o', 'v'),\n",
       " ('g', 'o', 'o'),\n",
       " (' ', '_', 'W'),\n",
       " ('d', 'i', 'v'),\n",
       " ('w', 'r', 'a'),\n",
       " ('o', 'l', 'o'),\n",
       " ('o', 'o', 'm'),\n",
       " (' ', 'I', 'r'),\n",
       " ('e', 'l', 'm'),\n",
       " ('m', 'i', 'c'),\n",
       " ('d', ' ', 'u'),\n",
       " ('i', 't', 'e'),\n",
       " ('b', 'y', ' '),\n",
       " ('y', ' ', 'A'),\n",
       " ('n', 'e', 'v'),\n",
       " ('s', 'u', 'l'),\n",
       " (' ', 'I', 'f'),\n",
       " ('?', ' ', 'a'),\n",
       " (' ', ' ', 'L'),\n",
       " ('t', 'i', 'n'),\n",
       " ('b', 'e', 'a'),\n",
       " ('e', 'r', 'g'),\n",
       " ('\"', '-', '-'),\n",
       " ('c', ' ', 'h'),\n",
       " ('e', '\\n', 'q'),\n",
       " ('J', 'u', 'l'),\n",
       " ('l', 'd', ' '),\n",
       " ('e', 'o', 'u'),\n",
       " ('b', 'e', ' '),\n",
       " ('a', 'r', 'd'),\n",
       " (' ', 'e', 's'),\n",
       " ('y', '\\n', 'b'),\n",
       " ('a', 'r', 'k'),\n",
       " ('e', 'n', 'd'),\n",
       " ('y', 'e', '.'),\n",
       " ('-', 'h', 'i'),\n",
       " ('o', 'e', 's'),\n",
       " ('_', \"'\", 's'),\n",
       " ('m', 'a', 'c'),\n",
       " ('r', '-', 's'),\n",
       " ('h', 'y', '\\n'),\n",
       " ('\"', '\\n', 'p'),\n",
       " (' ', 'J', 'e'),\n",
       " (' ', 'e', 'a'),\n",
       " (',', '\\n', 'w'),\n",
       " ('a', 'x', ' '),\n",
       " ('!', ' ', 'f'),\n",
       " ('f', ' ', '_'),\n",
       " ('d', ' ', 'm'),\n",
       " (' ', '\"', 'c'),\n",
       " ('n', 'f', 'u'),\n",
       " ('v', 'a', 'u'),\n",
       " ('i', 'a', 'n'),\n",
       " ('\\n', 'y', 'a'),\n",
       " ('t', ',', \"'\"),\n",
       " (' ', ' ', ' '),\n",
       " ('y', ' ', 'w'),\n",
       " ('n', ' ', 'g'),\n",
       " ('o', '\\n', 'H'),\n",
       " ('u', 'r', 'm'),\n",
       " ('o', 'd', 'i'),\n",
       " ('a', 'u', ';'),\n",
       " ('\\n', 'f', 'e'),\n",
       " ('p', 'a', 'g'),\n",
       " ('x', '\\n', 'a'),\n",
       " (' ', '`', 'n'),\n",
       " ('o', '\\n', 'm'),\n",
       " ('m', ' ', 'o'),\n",
       " ('`', 'I', 't'),\n",
       " ('l', 'i', 't'),\n",
       " ('r', 'l', 'a'),\n",
       " ('a', ';', ' '),\n",
       " ('w', 'a', 'r'),\n",
       " ('e', ' ', 'M'),\n",
       " ('u', ' ', 'y'),\n",
       " (';', '\\n', 'r'),\n",
       " ('A', ' ', 'v'),\n",
       " ('_', 'N', 'o'),\n",
       " ('w', 'a', 'v'),\n",
       " ('u', 'l', 'd'),\n",
       " ('o', 'm', 'y'),\n",
       " ('-', '\\n', 'G'),\n",
       " ('h', 'e', '-'),\n",
       " ('x', '!', '-'),\n",
       " ('e', '_', ';'),\n",
       " (' ', 'o', 'r'),\n",
       " ('-', '-', 'l'),\n",
       " ('A', 't', ' '),\n",
       " ('b', 'v', 'i'),\n",
       " ('o', 'r', 's'),\n",
       " ('-', 'b', 'u'),\n",
       " ('b', 'l', 'y'),\n",
       " ('-', 'u', 'r'),\n",
       " ('w', 'o', '-'),\n",
       " ('_', 'e', 'i'),\n",
       " ('t', ')', '-'),\n",
       " ('h', ' ', 'l'),\n",
       " ('l', '-', 'i'),\n",
       " ('t', '.', ' '),\n",
       " ('y', 'i', 's'),\n",
       " ('t', 'e', ','),\n",
       " ('o', 's', 'e'),\n",
       " ('r', 'y', \"'\"),\n",
       " ('e', 'k', ','),\n",
       " ('o', ' ', 'C'),\n",
       " ('u', 'n', 'o'),\n",
       " ('e', 'r', 'w'),\n",
       " ('o', 'r', 'k'),\n",
       " ('m', 'b', 'o'),\n",
       " ('y', ':', '\\n'),\n",
       " ('p', 'h', '!'),\n",
       " ('\"', ' ', 'A'),\n",
       " ('e', '\\n', 'g'),\n",
       " (\"'\", 'A', 'l'),\n",
       " ('e', '_', '\\n'),\n",
       " ('_', 'a', '_'),\n",
       " ('f', ' ', 'm'),\n",
       " ('-', 'r', 'o'),\n",
       " ('\"', 'U', 'p'),\n",
       " ('g', ' ', 'a'),\n",
       " ('y', ' ', 'j'),\n",
       " ('y', ',', '\\n'),\n",
       " ('e', '\\n', '\"'),\n",
       " ('g', 'h', 't'),\n",
       " ('g', 'e', 'a'),\n",
       " ('w', '-', 'c'),\n",
       " ('\\n', 'O', 'f'),\n",
       " ('m', ' ', 'E'),\n",
       " ('l', ' ', 'o'),\n",
       " (';', '\"', ' '),\n",
       " ('C', '.', ' '),\n",
       " (' ', 'E', 'v'),\n",
       " ('a', 'n', '_'),\n",
       " (' ', ' ', 'B'),\n",
       " ('e', 'p', 'i'),\n",
       " ('h', 'a', 'p'),\n",
       " ('z', 'a', 'b'),\n",
       " ('a', 'r', 'o'),\n",
       " ('i', 'e', '\\n'),\n",
       " ('f', ' ', 'u'),\n",
       " ('a', 'k', '.'),\n",
       " ('\"', 't', 'i'),\n",
       " ('o', 'c', 'a'),\n",
       " ('A', 'c', 't'),\n",
       " ('-', 'g', 'i'),\n",
       " ('u', ' ', 'a'),\n",
       " ('l', 'i', 's'),\n",
       " ('d', ',', ')'),\n",
       " ('z', 'e', '!'),\n",
       " ('u', '\\n', 'c'),\n",
       " ('u', 'l', 'k'),\n",
       " ('-', 'l', 'o'),\n",
       " ('l', '-', 'j'),\n",
       " ('t', 'e', '!'),\n",
       " ('f', 'r', 'e'),\n",
       " ('e', ' ', '\"'),\n",
       " (\"'\", 'd', ' '),\n",
       " ('g', 's', '?'),\n",
       " ('D', 'o', 'e'),\n",
       " ('l', 'l', 'o'),\n",
       " ('r', 'o', ','),\n",
       " ('o', 's', 'i'),\n",
       " (' ', ' ', 'b'),\n",
       " ('t', 'o', '-'),\n",
       " ('_', 'w', 'o'),\n",
       " ('f', 'f', '.'),\n",
       " ('\\n', '\\n', '_'),\n",
       " ('m', 'i', 'l'),\n",
       " ('r', 'd', 'e'),\n",
       " ('U', 'R', 'C'),\n",
       " ('_', '\\n', 'h'),\n",
       " ('g', 'u', 'l'),\n",
       " (' ', 'C', '.'),\n",
       " ('p', ' ', 'y'),\n",
       " ('\\n', '\"', 'n'),\n",
       " ('v', 'e', 's'),\n",
       " ('e', 'n', 'v'),\n",
       " ('u', 'e', '!'),\n",
       " ('m', '\\n', 'f'),\n",
       " ('t', 'h', 'y'),\n",
       " ('\\n', 'b', 'e'),\n",
       " ('g', '?', \"'\"),\n",
       " ('_', 'l', 'i'),\n",
       " ('e', ',', ')'),\n",
       " ('u', 'y', ' '),\n",
       " ('e', 'd', ';'),\n",
       " ('a', ')', ' '),\n",
       " ('e', 'd', 'd'),\n",
       " ('f', 't', 'o'),\n",
       " ('o', 'u', 'g'),\n",
       " ('r', 'o', 'o'),\n",
       " ('h', 'e', 's'),\n",
       " ('m', ':', '\\n'),\n",
       " ('e', 'g', 'g'),\n",
       " ('r', 'a', ' '),\n",
       " ('o', 't', 'a'),\n",
       " ('i', 'l', ' '),\n",
       " ('s', 'p', 'h'),\n",
       " ('r', ' ', 'U'),\n",
       " ('[', 'T', 'o'),\n",
       " ('n', 'd', 'h'),\n",
       " ('_', '.', '\"'),\n",
       " ('i', 'm', '!'),\n",
       " (' ', ' ', 'G'),\n",
       " ('l', 'n', 'e'),\n",
       " ('?', '\\n', 'V'),\n",
       " ('d', ' ', 'r'),\n",
       " ('f', ' ', 't'),\n",
       " ('n', ' ', 'D'),\n",
       " ('u', 'p', '.'),\n",
       " (',', \"'\", ' '),\n",
       " ('r', 'i', 'e'),\n",
       " ('s', \"'\", '\\n'),\n",
       " ('-', 'T', 'o'),\n",
       " (' ', 'r', 'o'),\n",
       " ('s', ' ', 'c'),\n",
       " ('a', 'n', 's'),\n",
       " ('r', ' ', 'E'),\n",
       " (' ', 'i', 'c'),\n",
       " (' ', 'A', 'f'),\n",
       " ('y', 's', ';'),\n",
       " ('i', 's', '-'),\n",
       " ('O', 'u', 'g'),\n",
       " (' ', 'o', 'v'),\n",
       " ('d', 'd', '.'),\n",
       " ('a', 's', ';'),\n",
       " ('i', 'b', 'b'),\n",
       " (' ', 'I', 's'),\n",
       " ('\"', 'E', 'm'),\n",
       " ('-', 'o', 'h'),\n",
       " (' ', '_', 'd'),\n",
       " ('_', ' ', 'e'),\n",
       " ('c', 'o', 'p'),\n",
       " ('p', '.', '\"'),\n",
       " (' ', 'P', 'o'),\n",
       " ('r', '\\n', 'I'),\n",
       " ('K', '.', '-'),\n",
       " (' ', 'l', 'a'),\n",
       " (' ', 'T', 'r'),\n",
       " (' ', 'A', 'g'),\n",
       " ('u', 'o', 'r'),\n",
       " ('g', '\\n', 'c'),\n",
       " (' ', '_', 'c'),\n",
       " (' ', 'A', 'b'),\n",
       " ('y', 's', '\\n'),\n",
       " ('-', '\"', 'y'),\n",
       " (';', '\\n', '_'),\n",
       " ('a', 'n', '!'),\n",
       " ('u', 'e', ';'),\n",
       " ('u', 'l', 'o'),\n",
       " ('H', 'e', 'a'),\n",
       " ('u', 'l', '\\n'),\n",
       " (' ', 'i', 'd'),\n",
       " ('n', 's', ','),\n",
       " ('-', '-', 'B'),\n",
       " ('u', 'r', 't'),\n",
       " ('-', 'c', 'o'),\n",
       " ('h', 'o', 'c'),\n",
       " ('u', 's', 's'),\n",
       " ('\"', 'w', 'e'),\n",
       " ('.', '\\n', 'R'),\n",
       " ('\\n', '\"', '`'),\n",
       " ('l', 's', 'o'),\n",
       " ('g', 'g', 'e'),\n",
       " ('E', 'l', 'i'),\n",
       " ('C', 'o', 'm'),\n",
       " ('d', 'n', 'e'),\n",
       " ('y', 's', '.'),\n",
       " ('m', ' ', 'w'),\n",
       " ('v', 'i', 'a'),\n",
       " ('l', 't', 'a'),\n",
       " ('y', '\\n', 'f'),\n",
       " ('a', 'u', 'g'),\n",
       " ('a', 'i', 'e'),\n",
       " ('c', 't', 'o'),\n",
       " ('x', 't', 'e'),\n",
       " ('-', 'e', 's'),\n",
       " ('p', 'y', 'i'),\n",
       " ('!', '\\n', 'E'),\n",
       " ('s', 't', 'i'),\n",
       " ('e', ',', '\"'),\n",
       " ('o', 'p', 'm'),\n",
       " ('y', ' ', 'g'),\n",
       " ('i', 'd', 'e'),\n",
       " ('v', 'e', '-'),\n",
       " (':', ' ', 'h'),\n",
       " ('n', 'k', '?'),\n",
       " ('u', 'l', '-'),\n",
       " ('t', '\\n', 'd'),\n",
       " ('b', 'e', ','),\n",
       " ('e', 's', '\"'),\n",
       " ('u', 'e', '.'),\n",
       " ('_', 's', 'p'),\n",
       " (' ', '(', 'I'),\n",
       " ('.', '\\n', 'J'),\n",
       " (' ', 'E', 'm'),\n",
       " ('l', 'e', 's'),\n",
       " ('J', 'o', 'h'),\n",
       " (' ', 's', 'n'),\n",
       " ('S', 'u', 'c'),\n",
       " ('a', 'p', '.'),\n",
       " ('e', 'r', ';'),\n",
       " ('r', 't', '.'),\n",
       " ('c', 't', ','),\n",
       " ('u', ' ', '`'),\n",
       " ('e', 's', '!'),\n",
       " ('e', 'x', '.'),\n",
       " ('b', 'd', 'y'),\n",
       " ('_', 's', 'a'),\n",
       " ('a', 'y', ' '),\n",
       " ('W', 'h', 'a'),\n",
       " ('-', '\"', 'A'),\n",
       " ('f', ' ', 'g'),\n",
       " ('i', 'm', '.'),\n",
       " ('n', 'e', 'm'),\n",
       " ('u', '\\n', 'd'),\n",
       " ('e', 'l', 'v'),\n",
       " ('\"', \"'\", 'T'),\n",
       " ('o', '\\n', 'b'),\n",
       " ('p', 'l', 'u'),\n",
       " ('e', 'e', 'k'),\n",
       " ('I', 'n', 'd'),\n",
       " ('P', 'i', 'l'),\n",
       " ('w', ' ', 'H'),\n",
       " ('o', 'y', 'i'),\n",
       " ('m', ':', ' '),\n",
       " ('s', '?', '-'),\n",
       " ('-', 't', 'r'),\n",
       " ('f', 'o', 'o'),\n",
       " ('m', 's', ':'),\n",
       " ('f', 'o', 'u'),\n",
       " ('.', \"'\", 's'),\n",
       " ('a', ' ', 'c'),\n",
       " ('_', ' ', 't'),\n",
       " ('u', 'r', '\\n'),\n",
       " ('a', 'r', ';'),\n",
       " ('n', '-', 'i'),\n",
       " ('w', 'r', 'i'),\n",
       " ('\"', 'm', 'i'),\n",
       " ('t', ' ', 'k'),\n",
       " ('a', 's', '-'),\n",
       " ('b', ';', \"'\"),\n",
       " ('g', '!', ' '),\n",
       " ('P', 'a', 'i'),\n",
       " ('u', '-', '-'),\n",
       " (';', ' ', 's'),\n",
       " (' ', 'M', 'y'),\n",
       " ('t', 'n', 'e'),\n",
       " ('-', 'w', 'i'),\n",
       " ('m', ':', '-'),\n",
       " ('m', '\\n', 'v'),\n",
       " ('e', 'n', 'z'),\n",
       " ('e', 'g', ' '),\n",
       " ('\\n', 'B', 'y'),\n",
       " ('\"', 'T', 'a'),\n",
       " ('n', '_', ','),\n",
       " ('-', 'u', 'n'),\n",
       " (' ', 'r', 'e'),\n",
       " ('\\n', '\\n', 'O'),\n",
       " ('c', 't', '!'),\n",
       " ('a', 'u', 'r'),\n",
       " ('n', 'g', 'e'),\n",
       " ('M', 'e', 'n'),\n",
       " ('r', 'e', 'l'),\n",
       " ('\"', 'D', 'o'),\n",
       " ('g', ' ', 'q'),\n",
       " ('-', 's', 'p'),\n",
       " ('t', 't', 'i'),\n",
       " ('g', 'i', 'n'),\n",
       " (' ', 'y', 'a'),\n",
       " ('u', 'r', 'r'),\n",
       " (\"'\", '\\n', 's'),\n",
       " ('l', 'y', ' '),\n",
       " ('m', ' ', 'M'),\n",
       " ('n', 'e', '_'),\n",
       " (' ', 'g', 'o'),\n",
       " ('e', '!', '\\n'),\n",
       " ('r', ' ', 'J'),\n",
       " ('w', 'l', '\\n'),\n",
       " ('(', 'p', 'u'),\n",
       " (' ', '(', 'b'),\n",
       " ('a', 's', 'o'),\n",
       " ('u', 't', 'w'),\n",
       " ('!', ' ', 'O'),\n",
       " ('o', 'h', 'i'),\n",
       " ('x', '\\n', 'i'),\n",
       " ('n', 'w', 'h'),\n",
       " ('(', 'r', 'a'),\n",
       " ('s', 'k', 'i'),\n",
       " ('o', 't', ','),\n",
       " ('s', ' ', 'E'),\n",
       " ('O', 'b', 's'),\n",
       " (' ', 'm', 'o'),\n",
       " ('i', 'c', '!'),\n",
       " ('g', 'o', 't'),\n",
       " ('s', 'i', 'x'),\n",
       " ('m', 'e', '.'),\n",
       " ('e', '-', 'd'),\n",
       " ('-', 'B', 'a'),\n",
       " ('o', 'i', 'n'),\n",
       " ('C', 'o', 'l'),\n",
       " ('u', '\\n', 'b'),\n",
       " ('i', 'r', 'k'),\n",
       " ('\"', '\\n', 'W'),\n",
       " ('W', 'i', 'l'),\n",
       " ('o', 'n', 'k'),\n",
       " ('-', '-', 'Q'),\n",
       " ('v', 'e', '.'),\n",
       " ('g', 'a', 'r'),\n",
       " (',', '\"', ' '),\n",
       " ('A', 'u', 'n'),\n",
       " ('\\n', '\"', 'Q'),\n",
       " ('F', 'e', 'b'),\n",
       " ('o', 'b', 'j'),\n",
       " ('m', ' ', 'l'),\n",
       " ('t', 'h', 's'),\n",
       " ('r', 'f', 'e'),\n",
       " ('\\n', 'n', 'a'),\n",
       " (' ', 'T', 'u'),\n",
       " ('r', '\\n', 'M'),\n",
       " ('e', '\\n', 'H'),\n",
       " ('l', 'i', 'n'),\n",
       " ('t', 'h', 'u'),\n",
       " ('p', ';', '\\n'),\n",
       " ('b', 'u', 's'),\n",
       " ('d', 'v', 'a'),\n",
       " ('u', 's', 'l'),\n",
       " ('g', 's', ' '),\n",
       " ('o', 'f', 's'),\n",
       " ('i', 's', 'u'),\n",
       " ('-', 'd', 'u'),\n",
       " ('o', 'n', 's'),\n",
       " (';', '\\n', 't'),\n",
       " ('?', ' ', 'W'),\n",
       " ('j', 'u', 'g'),\n",
       " ('\\n', '\"', 'C'),\n",
       " ('m', ' ', 'd'),\n",
       " ('a', 'p', 'o'),\n",
       " (' ', 'j', 'o'),\n",
       " ('m', 'p', 'a'),\n",
       " ('h', ' ', 'W'),\n",
       " ('n', 'd', '?'),\n",
       " (',', ' ', 'Y'),\n",
       " ('S', 'e', 'p'),\n",
       " ('a', 'y', '_'),\n",
       " ('g', 'h', 'e'),\n",
       " ('t', '\\n', 'n'),\n",
       " ('v', 'o', 'k'),\n",
       " ('y', 'p', 'o'),\n",
       " ('B', 'e', 't'),\n",
       " ('n', 'p', 'o'),\n",
       " ('N', 'o', '!'),\n",
       " ('h', ' ', 'k'),\n",
       " ('k', '_', ' '),\n",
       " ('m', '\\n', 'm'),\n",
       " ('w', ')', '\\n'),\n",
       " ('-', 'E', 'x'),\n",
       " ('h', '-', 'e'),\n",
       " ('a', 'l', 'c'),\n",
       " ('i', 'm', 'i'),\n",
       " ('m', 'u', 'r'),\n",
       " ('Y', ' ', 'D'),\n",
       " ('r', ' ', 'M'),\n",
       " ('i', 'u', 'm'),\n",
       " ('e', 'j', 'a'),\n",
       " ('u', 'd', 'n'),\n",
       " ('E', 'S', 'T'),\n",
       " ('v', 'o', 'w'),\n",
       " ('y', '?', '\\n'),\n",
       " ('u', 'n', 'n'),\n",
       " ('k', '!', '\"'),\n",
       " ('v', 'o', 'i'),\n",
       " ('_', ' ', 'n'),\n",
       " (',', ' ', 'I'),\n",
       " ('k', 's', ' '),\n",
       " ('e', 'l', 'f'),\n",
       " ('e', 'w', ' '),\n",
       " ('o', ' ', 'a'),\n",
       " ('\\n', '\"', 'b'),\n",
       " ('e', 's', 'o'),\n",
       " ('I', ' ', 'b'),\n",
       " ('r', '\\n', 'e'),\n",
       " ('\"', 'L', 'e'),\n",
       " ('u', ';', '\"'),\n",
       " ('(', 's', 'm'),\n",
       " ('p', 'o', 'v'),\n",
       " ('p', 'u', 'p'),\n",
       " ('t', ':', '\\n'),\n",
       " ('s', 'n', 'i'),\n",
       " ('u', 'l', 'n'),\n",
       " ('g', '!', ')'),\n",
       " ('o', 'y', 'f'),\n",
       " ('i', 'r', 'o'),\n",
       " ('\"', 'p', 'o'),\n",
       " ('a', 'r', '?'),\n",
       " ('w', ';', ' '),\n",
       " ('n', ' ', '`'),\n",
       " ('m', '?', '\"'),\n",
       " ('e', '_', ','),\n",
       " ('w', 's', ';'),\n",
       " (' ', 'F', 'a'),\n",
       " ('t', '_', '\\n'),\n",
       " ('\"', 'W', 'a'),\n",
       " ('d', ' ', 'd'),\n",
       " ('n', 'd', 'w'),\n",
       " ('_', 'l', 'a'),\n",
       " ('m', 'y', ' '),\n",
       " ('p', '\\n', 'h'),\n",
       " ('\\n', 'A', 'c'),\n",
       " ('f', 'a', 'l'),\n",
       " ('w', '?', ' '),\n",
       " ('`', 'M', 'y'),\n",
       " ('o', 'r', 'y'),\n",
       " (')', '\\n', 'o'),\n",
       " ('(', 'c', 'e'),\n",
       " ('e', 'm', 'a'),\n",
       " ('-', 't', 'o'),\n",
       " ('\\n', 'q', 'u'),\n",
       " ('x', ',', '\"'),\n",
       " ('w', 'd', ','),\n",
       " ('d', 'e', 'e'),\n",
       " ('e', ';', '\"'),\n",
       " ('e', 'x', 'h'),\n",
       " ('A', 'R', ' '),\n",
       " ('d', '\\n', 'u'),\n",
       " ('s', 'k', '-'),\n",
       " ('o', '!', '-'),\n",
       " ('r', 't', 'h'),\n",
       " ('n', 'd', 'm'),\n",
       " ('v', 'e', 'r'),\n",
       " ('i', 'l', 'i'),\n",
       " ('_', 'w', 'a'),\n",
       " (':', ' ', 'a'),\n",
       " ('\\n', '(', 't'),\n",
       " ('r', 's', ';'),\n",
       " ('\\n', 'e', 'f'),\n",
       " ('_', 'a', 'm'),\n",
       " ('`', 'D', 'e'),\n",
       " ('i', 'r', '_'),\n",
       " (':', '\\n', 'I'),\n",
       " ('I', 'I', '\\n'),\n",
       " ('-', 'H', 'i'),\n",
       " ('-', '-', 'S'),\n",
       " ('C', 'o', 'w'),\n",
       " ('y', 'l', 'o'),\n",
       " ('u', 't', 'a'),\n",
       " ('C', 'a', 'r'),\n",
       " ('l', 'e', 'a'),\n",
       " ('M', 'i', 'g'),\n",
       " (';', \"'\", '-'),\n",
       " ('r', 'u', 'd'),\n",
       " ('i', 'n', '-'),\n",
       " ('g', '\\n', 'i'),\n",
       " ('P', 'e', 'm'),\n",
       " ('a', 't', 's'),\n",
       " ('l', ' ', 'd'),\n",
       " ('.', ' ', 'f'),\n",
       " ('A', '.', '-'),\n",
       " (',', '\\n', 'k'),\n",
       " ('a', \"'\", 's'),\n",
       " ('\\n', 'i', 'f'),\n",
       " ('c', 'i', 'e'),\n",
       " ('h', '\\n', 'b'),\n",
       " ('s', ' ', 'W'),\n",
       " ('e', 'o', 's'),\n",
       " (' ', 'K', 'e'),\n",
       " ('n', 'n', 'u'),\n",
       " (' ', '_', 'B'),\n",
       " ('x', 'i', 's'),\n",
       " (' ', ' ', '`'),\n",
       " ('o', 'o', 'p'),\n",
       " ('r', 'e', 'r'),\n",
       " ('l', ' ', 'H'),\n",
       " ('t', 'u', 'o'),\n",
       " ('s', 'h', '!'),\n",
       " ('l', ' ', 'h'),\n",
       " ('d', '\\n', '_'),\n",
       " ('A', 'b', 'd'),\n",
       " ('o', 'y', ' '),\n",
       " ('h', 'o', 's'),\n",
       " ('T', 'e', 'l'),\n",
       " ('l', 'a', '\\n'),\n",
       " ('y', ' ', 'i'),\n",
       " (':', ' ', 'w'),\n",
       " ('B', 'a', 't'),\n",
       " ('-', 'r', 'a'),\n",
       " ('x', 'e', 's'),\n",
       " ('-', '\\n', 's'),\n",
       " ('y', 'p', 'e'),\n",
       " ('k', '\\n', 'm'),\n",
       " ('_', 'c', 'o'),\n",
       " ('k', 'y', '?'),\n",
       " ('i', 'n', ' '),\n",
       " ('a', 'm', 'm'),\n",
       " ('r', 's', 't'),\n",
       " (',', ' ', 'h'),\n",
       " ('g', '\\n', 's'),\n",
       " ('x', \"'\", 's'),\n",
       " ('A', '.', ' '),\n",
       " ('z', 'l', 'e'),\n",
       " ('e', 't', 't'),\n",
       " ('i', 'r', 'c'),\n",
       " ('n', '\\n', 'l'),\n",
       " ('-', 'M', 'a'),\n",
       " ('m', 'f', 'o'),\n",
       " ('l', 'o', 'r'),\n",
       " ('r', 'm', ' '),\n",
       " ('d', '\\n', 'g'),\n",
       " ('f', ',', '-'),\n",
       " ('o', 'f', 'f'),\n",
       " ('m', 'o', 'o'),\n",
       " ('e', ' ', '('),\n",
       " ('o', 'q', 'u'),\n",
       " ('t', 'h', 'f'),\n",
       " ('\\n', 'h', 'u'),\n",
       " ('n', 's', 'o'),\n",
       " ('k', '.', '\\n'),\n",
       " ('t', ' ', 'C'),\n",
       " ('a', 'm', ','),\n",
       " ('k', '-', 'm'),\n",
       " (' ', 'g', 'e'),\n",
       " ('a', 'l', 'm'),\n",
       " ('o', 'r', 'u'),\n",
       " ('-', '\\n', 'H'),\n",
       " ('o', ';', '-'),\n",
       " (' ', 'O', 't'),\n",
       " ('_', ',', ' '),\n",
       " ('e', '\\n', 'w'),\n",
       " ('m', 'p', ','),\n",
       " ('g', 'o', ' '),\n",
       " ('S', 'c', 'h'),\n",
       " ('o', 'm', '?'),\n",
       " (' ', 'h', 'e'),\n",
       " ('o', 'b', 'a'),\n",
       " ('k', 'y', ','),\n",
       " ('n', '_', \"'\"),\n",
       " ('s', 'e', 'e'),\n",
       " ('l', ' ', 's'),\n",
       " ('a', 'h', '!'),\n",
       " ('l', 'y', '?'),\n",
       " ('2', '3', 'r'),\n",
       " ('e', ' ', 'j'),\n",
       " ('\\n', '(', 'I'),\n",
       " (' ', 'p', 'a'),\n",
       " ('p', 'i', 'r'),\n",
       " ('t', '\\n', 'o'),\n",
       " ('n', '-', 'a'),\n",
       " ('h', 'l', 'y'),\n",
       " ('e', 'p', 'e'),\n",
       " ('k', '\\n', 'l'),\n",
       " (' ', ' ', 'O'),\n",
       " ('\\n', 'o', \"'\"),\n",
       " ('y', ':', '\"'),\n",
       " (' ', ' ', 'A'),\n",
       " ('\\n', 'd', 'r'),\n",
       " ('r', 'l', '-'),\n",
       " ('m', 'm', 'i'),\n",
       " (';', ' ', 'p'),\n",
       " ('k', '\\n', 'f'),\n",
       " ('l', 'u', 'c'),\n",
       " ('-', 'v', 'i'),\n",
       " ('t', ' ', '`'),\n",
       " ('e', 't', 'u'),\n",
       " ('e', 'l', 'p'),\n",
       " ('m', '?', '\\n'),\n",
       " ('f', 'o', 'l'),\n",
       " ('t', ' ', 'n'),\n",
       " (' ', 'd', 'y'),\n",
       " ('.', ' ', 'I'),\n",
       " ('o', ' ', 'b'),\n",
       " ('l', 'f', \"'\"),\n",
       " ('v', 'a', 's'),\n",
       " ('D', 'e', 'a'),\n",
       " ('I', '?', '-'),\n",
       " ('u', 't', 'h'),\n",
       " (' ', 'S', 'u'),\n",
       " ('\"', 'd', 'e'),\n",
       " ('t', 'y', ' '),\n",
       " ('p', 't', 's'),\n",
       " ('o', 'e', 'r'),\n",
       " ('a', 'r', 'r'),\n",
       " (' ', 'm', 'u'),\n",
       " ('o', '.', '\"'),\n",
       " ('n', 'k', \"'\"),\n",
       " ('k', 'y', '!'),\n",
       " ('r', 'e', '\\n'),\n",
       " ('o', 'r', 't'),\n",
       " ('_', 'b', 'r'),\n",
       " ('n', 'r', 'i'),\n",
       " (\"'\", '\\n', 'c'),\n",
       " ('D', 'a', 'n'),\n",
       " ('o', 'w', 'r'),\n",
       " ('d', '\\n', 'r'),\n",
       " ('i', 'm', '_'),\n",
       " ('l', 'a', 'p'),\n",
       " ('f', 'l', 'e'),\n",
       " ('e', 't', 'l'),\n",
       " ('r', 'e', 'o'),\n",
       " ('\\n', '\"', 'P'),\n",
       " ('r', 'l', ' '),\n",
       " (',', ' ', 't'),\n",
       " ('a', ' ', 'j'),\n",
       " ('\"', '\\n', 'E'),\n",
       " (',', ' ', 'A'),\n",
       " ('R', ' ', 'M'),\n",
       " ('k', 'n', 'i'),\n",
       " ('n', ' ', 'y'),\n",
       " ('r', '\\n', 'a'),\n",
       " ('-', 'B', 'i'),\n",
       " ('r', 'd', '-'),\n",
       " ('h', 'n', ','),\n",
       " (' ', 'g', 'l'),\n",
       " ('r', 'o', 'u'),\n",
       " ('j', 'u', 's'),\n",
       " (',', ' ', 'e'),\n",
       " ('p', 'a', 'y'),\n",
       " ('o', 'p', ';'),\n",
       " (')', '\\n', 'U'),\n",
       " ('k', 'l', 'y'),\n",
       " ('q', 'u', 'a'),\n",
       " ('-', 'g', 'a'),\n",
       " ('f', '\\n', 'p'),\n",
       " ('k', 'e', 'p'),\n",
       " ('c', 'k', 'n'),\n",
       " ('t', 'a', '.'),\n",
       " ('w', 'n', ';'),\n",
       " ('o', 'n', ';'),\n",
       " ('l', 'b', 'l'),\n",
       " (' ', '\"', 'U'),\n",
       " ('a', 'i', 'm'),\n",
       " ('D', 'o', 'r'),\n",
       " ('d', 'i', 'g'),\n",
       " ('y', 'm', 'p'),\n",
       " ('p', 't', 'i'),\n",
       " ('d', ' ', 'C'),\n",
       " ('s', '\\n', 'H'),\n",
       " ('o', '.', ' '),\n",
       " ('a', 'k', '\\n'),\n",
       " (' ', 'C', 'r'),\n",
       " ('c', 'h', 'u'),\n",
       " ('-', '-', 'w'),\n",
       " ('e', 't', '.'),\n",
       " ('n', 'l', 'a'),\n",
       " (' ', 'd', 'a'),\n",
       " ('A', 'p', 'o'),\n",
       " ('t', 'e', ';'),\n",
       " ('_', ' ', 'j'),\n",
       " ('\"', 'T', 'h'),\n",
       " ('h', ' ', 'E'),\n",
       " ('u', 'x', 'u'),\n",
       " ('n', 'u', 'm'),\n",
       " ('z', 'e', 's'),\n",
       " ('-', 'a', 'p'),\n",
       " ('k', \"'\", 'd'),\n",
       " ('O', 'f', ' '),\n",
       " ('i', 'r', '\\n'),\n",
       " ('n', 'o', '.'),\n",
       " ('S', 'u', 'p'),\n",
       " ('i', 't', '\"'),\n",
       " ('r', ' ', '('),\n",
       " ('o', 'a', 'c'),\n",
       " ('\\n', 's', 'y'),\n",
       " ('-', '_', 'w'),\n",
       " ('i', 'a', ' '),\n",
       " ('f', 'e', \"'\"),\n",
       " ('e', 'j', 'o'),\n",
       " ('!', '\\n', 'W'),\n",
       " ('c', 'u', 'r'),\n",
       " (' ', 'y', 'o'),\n",
       " ('s', 'o', '!'),\n",
       " ('t', 's', ';'),\n",
       " ...}"
      ]
     },
     "execution_count": 5,
     "metadata": {},
     "output_type": "execute_result"
    }
   ],
   "source": [
    "k_shingles(emma, 3)"
   ]
  },
  {
   "cell_type": "markdown",
   "metadata": {
    "deletable": true,
    "editable": true
   },
   "source": [
    "The following code can be used to compute the jaccard similarity between two sets."
   ]
  },
  {
   "cell_type": "code",
   "execution_count": 6,
   "metadata": {
    "collapsed": true,
    "deletable": true,
    "editable": true
   },
   "outputs": [],
   "source": [
    "def jaccard(set1, set2):\n",
    "    return len(set1 & set2)/(len(set1 | set2))"
   ]
  },
  {
   "cell_type": "markdown",
   "metadata": {},
   "source": [
    "And this code shows how to compute the jaccard similarity between the sets of 3-shingles of two documents in the Gutenberg corpus."
   ]
  },
  {
   "cell_type": "code",
   "execution_count": 7,
   "metadata": {
    "collapsed": false,
    "deletable": true,
    "editable": true
   },
   "outputs": [
    {
     "data": {
      "text/plain": [
       "0.6289907557419232"
      ]
     },
     "execution_count": 7,
     "metadata": {},
     "output_type": "execute_result"
    }
   ],
   "source": [
    "k3_shingle_emma = k_shingles(emma, 3)\n",
    "persuasion = gutenberg.raw('austen-persuasion.txt')\n",
    "k3_shingle_persuasion = k_shingles(persuasion, 3)\n",
    "jaccard(k3_shingle_emma, k3_shingle_persuasion)"
   ]
  },
  {
   "cell_type": "markdown",
   "metadata": {
    "deletable": true,
    "editable": true
   },
   "source": [
    "### Exercise: \n",
    "\n",
    "Fill the following table with the pairwise Jaccard similarities of the first 4 documents of the Gutenberg set. To compute the Jaccard similarities, use their 4-shingle representations. What are the two most similar documents?\n",
    "\n",
    "|  | austen-emma | austen-persuasion | austen-sense | bible-kjv |\n",
    "| --- | --- | --- | --- | --- |\n",
    "| **austen-emma** | | | | |\n",
    "| **austen-persuasion** | | | | |\n",
    "| **austen-sense** | | | | |\n",
    "| **bible-kjv** | | | | |"
   ]
  },
  {
   "cell_type": "code",
   "execution_count": null,
   "metadata": {
    "collapsed": false
   },
   "outputs": [],
   "source": []
  },
  {
   "cell_type": "markdown",
   "metadata": {
    "deletable": true,
    "editable": true
   },
   "source": [
    "Repeat the exercise, but now using their 9-shingle representations. Comment on the results. What happened and why?\n",
    "\n",
    "|  | austen-emma | austen-persuasion | austen-sense | bible-kjv |\n",
    "| --- | --- | --- | --- | --- |\n",
    "| **austen-emma** | | | | |\n",
    "| **austen-persuasion** | | | | |\n",
    "| **austen-sense** | | | | |\n",
    "| **bible-kjv** | | | | |"
   ]
  },
  {
   "cell_type": "code",
   "execution_count": null,
   "metadata": {
    "collapsed": false
   },
   "outputs": [],
   "source": []
  },
  {
   "cell_type": "markdown",
   "metadata": {
    "collapsed": true,
    "deletable": true,
    "editable": true
   },
   "source": [
    "### Exercise:\n",
    "\n",
    "The following code uses Python's hash() function to define our hash function that maps a shingle to a number within a specific range of values."
   ]
  },
  {
   "cell_type": "code",
   "execution_count": 8,
   "metadata": {
    "collapsed": true
   },
   "outputs": [],
   "source": [
    "def my_hash(item, target_range):\n",
    "    return hash(item) % target_range"
   ]
  },
  {
   "cell_type": "markdown",
   "metadata": {},
   "source": [
    "This code illustrates how to use `my_hash`. When you run the cell below you will probably notice a different hash number, but if you run the cell several times in the same python session the number will not change. This is because Python's implementation of hash() does not guarantee the same number in different runs of Python."
   ]
  },
  {
   "cell_type": "code",
   "execution_count": 9,
   "metadata": {
    "collapsed": false
   },
   "outputs": [
    {
     "data": {
      "text/plain": [
       "3699954575"
      ]
     },
     "execution_count": 9,
     "metadata": {},
     "output_type": "execute_result"
    }
   ],
   "source": [
    "my_hash(('a','b','c'), 2**32)"
   ]
  },
  {
   "cell_type": "markdown",
   "metadata": {},
   "source": [
    "The code below uses the hash function to build the k_shingles of a document. It takes as a parameter the text, the value of k, the hash function, and the range of the hash function."
   ]
  },
  {
   "cell_type": "code",
   "execution_count": 10,
   "metadata": {
    "collapsed": true
   },
   "outputs": [],
   "source": [
    "def k_hash_shingles(text, k, hash_function, target_range):\n",
    "    return set(hash_function(item, target_range) \n",
    "               for item in nltk.ngrams(text, k))"
   ]
  },
  {
   "cell_type": "code",
   "execution_count": 11,
   "metadata": {
    "collapsed": false
   },
   "outputs": [
    {
     "data": {
      "text/plain": [
       "0.6289907557419232"
      ]
     },
     "execution_count": 11,
     "metadata": {},
     "output_type": "execute_result"
    }
   ],
   "source": [
    "k3_hash_shingle_emma = k_hash_shingles(emma, 3, my_hash, 2**32)\n",
    "k3_hash_shingle_persuasion = k_hash_shingles(persuasion, 3, my_hash, 2**32)\n",
    "jaccard(k3_hash_shingle_emma, k3_hash_shingle_persuasion)"
   ]
  },
  {
   "cell_type": "markdown",
   "metadata": {},
   "source": [
    "Using the hash function, represent the first five documents in the Gutenberg corpus as 4-shingles hashed to a range between $0$ and $2^{10}-1$, compute all pairwise jaccard similarities and determine the two documents that are most similar.\n",
    "\n",
    "1. What are the differences in the results with those of the previous exercise?\n",
    "2. What are the differences sizes between the 4-shingles and the hashed versions?"
   ]
  },
  {
   "cell_type": "code",
   "execution_count": null,
   "metadata": {
    "collapsed": false
   },
   "outputs": [],
   "source": []
  },
  {
   "cell_type": "markdown",
   "metadata": {},
   "source": [
    "## Minhashing"
   ]
  },
  {
   "cell_type": "markdown",
   "metadata": {},
   "source": [
    "The following code implements a family of different hash functions depending the hash_index."
   ]
  },
  {
   "cell_type": "code",
   "execution_count": 12,
   "metadata": {
    "collapsed": true
   },
   "outputs": [],
   "source": [
    "def permute_hash(item, hash_index, target_range):\n",
    "    return (hash(item) * (hash_index+1) + 1) % target_range"
   ]
  },
  {
   "cell_type": "markdown",
   "metadata": {},
   "source": [
    "For example, here are the hash values of two strings for 10 different values of hash_index."
   ]
  },
  {
   "cell_type": "code",
   "execution_count": 13,
   "metadata": {
    "collapsed": false
   },
   "outputs": [
    {
     "name": "stdout",
     "output_type": "stream",
     "text": [
      "3430464558 1534383903\n",
      "2565961819 3068767805\n",
      "1701459080 308184411\n",
      "836956341 1842568313\n",
      "4267420898 3376952215\n",
      "3402918159 616368821\n",
      "2538415420 2150752723\n",
      "1673912681 3685136625\n",
      "809409942 924553231\n",
      "4239874499 2458937133\n"
     ]
    }
   ],
   "source": [
    "for i in range(10):\n",
    "    print(permute_hash('a', i, 2**32), permute_hash('b', i, 2**32))"
   ]
  },
  {
   "cell_type": "markdown",
   "metadata": {},
   "source": [
    "The code below builds the signature matrix of the minhash of a list of k-shingles, where we can customize the permute hash function, the number of rows in the final signature matrix, and the target range of the permute hash function."
   ]
  },
  {
   "cell_type": "code",
   "execution_count": 14,
   "metadata": {
    "collapsed": false
   },
   "outputs": [],
   "source": [
    "import numpy as np\n",
    "def minhash(kshingles,\n",
    "            permute_hash_function, signature_rows,\n",
    "            target_range,\n",
    "            verbose=False):\n",
    "    sig = np.ones((signature_rows, len(kshingles))) * np.inf\n",
    "    for r in range(target_range):\n",
    "        for c, ks in enumerate(kshingles):\n",
    "            if r not in ks:\n",
    "                continue\n",
    "            for i in range(signature_rows):\n",
    "                sig[i, c] = min(sig[i,c], \n",
    "                                permute_hash_function(r, i, target_range))\n",
    "        if verbose:\n",
    "            print(\"After scanning row %i\" % r)\n",
    "            print(\"Signature matrix:\")\n",
    "            print(sig)\n",
    "    return sig"
   ]
  },
  {
   "cell_type": "markdown",
   "metadata": {},
   "source": [
    "Below we can see some code that builds the signature matrix that we have covered in the lectures."
   ]
  },
  {
   "cell_type": "code",
   "execution_count": 15,
   "metadata": {
    "collapsed": true
   },
   "outputs": [],
   "source": [
    "def simple_permute_hash(x, index, target_range):\n",
    "    if index == 0:\n",
    "        return (x + 1) % target_range\n",
    "    else:\n",
    "        return (3*x + 1) % target_range"
   ]
  },
  {
   "cell_type": "code",
   "execution_count": 16,
   "metadata": {
    "collapsed": false
   },
   "outputs": [
    {
     "name": "stdout",
     "output_type": "stream",
     "text": [
      "After scanning row 0\n",
      "Signature matrix:\n",
      "[[  1.  inf  inf   1.]\n",
      " [  1.  inf  inf   1.]]\n",
      "After scanning row 1\n",
      "Signature matrix:\n",
      "[[  1.  inf   2.   1.]\n",
      " [  1.  inf   4.   1.]]\n",
      "After scanning row 2\n",
      "Signature matrix:\n",
      "[[ 1.  3.  2.  1.]\n",
      " [ 1.  2.  4.  1.]]\n",
      "After scanning row 3\n",
      "Signature matrix:\n",
      "[[ 1.  3.  2.  1.]\n",
      " [ 0.  2.  0.  0.]]\n",
      "After scanning row 4\n",
      "Signature matrix:\n",
      "[[ 1.  3.  0.  1.]\n",
      " [ 0.  2.  0.  0.]]\n"
     ]
    },
    {
     "data": {
      "text/plain": [
       "array([[ 1.,  3.,  0.,  1.],\n",
       "       [ 0.,  2.,  0.,  0.]])"
      ]
     },
     "execution_count": 16,
     "metadata": {},
     "output_type": "execute_result"
    }
   ],
   "source": [
    "kshingles = [{0, 3}, {2}, {1, 3, 4}, {0, 2, 3}]\n",
    "minhash(kshingles, simple_permute_hash, 2, 5, verbose=True)"
   ]
  },
  {
   "cell_type": "markdown",
   "metadata": {},
   "source": [
    "And below are different signature matrices resulting from different target ranges of the permute hash function using the first 5 documents of the NLTK Gutenberg corpus."
   ]
  },
  {
   "cell_type": "code",
   "execution_count": 17,
   "metadata": {
    "collapsed": false
   },
   "outputs": [
    {
     "name": "stdout",
     "output_type": "stream",
     "text": [
      "Obtaining initial shingles\n",
      "Computing minhash\n"
     ]
    },
    {
     "data": {
      "text/plain": [
       "array([[ 0.,  0.,  0.,  0.,  0.],\n",
       "       [ 1.,  1.,  1.,  1.,  1.],\n",
       "       [ 0.,  0.,  0.,  0.,  0.],\n",
       "       [ 1.,  1.,  1.,  1.,  1.],\n",
       "       [ 0.,  0.,  0.,  0.,  0.]])"
      ]
     },
     "execution_count": 17,
     "metadata": {},
     "output_type": "execute_result"
    }
   ],
   "source": [
    "print(\"Obtaining initial shingles\")\n",
    "target_range = 32\n",
    "k=4\n",
    "kshingles = [k_hash_shingles(gutenberg.raw(f), k, \n",
    "                            my_hash,\n",
    "                            target_range) \n",
    "             for f in gutenberg.fileids()[:5]]\n",
    "print(\"Computing minhash\")\n",
    "minhash(kshingles, permute_hash, 5, target_range)"
   ]
  },
  {
   "cell_type": "code",
   "execution_count": 18,
   "metadata": {
    "collapsed": false
   },
   "outputs": [
    {
     "name": "stdout",
     "output_type": "stream",
     "text": [
      "Obtaining initial shingles\n",
      "Computing minhash\n"
     ]
    },
    {
     "data": {
      "text/plain": [
       "array([[ 0.,  0.,  0.,  0.,  0.],\n",
       "       [ 1.,  1.,  1.,  1.,  1.],\n",
       "       [ 0.,  0.,  0.,  0.,  0.],\n",
       "       [ 1.,  1.,  1.,  1.,  1.],\n",
       "       [ 1.,  1.,  1.,  1.,  1.]])"
      ]
     },
     "execution_count": 18,
     "metadata": {},
     "output_type": "execute_result"
    }
   ],
   "source": [
    "print(\"Obtaining initial shingles\")\n",
    "target_range = 3200\n",
    "k=4\n",
    "kshingles = [k_hash_shingles(gutenberg.raw(f), k, \n",
    "                            my_hash,\n",
    "                            target_range) \n",
    "             for f in gutenberg.fileids()[:5]]\n",
    "print(\"Computing minhash\")\n",
    "minhash(kshingles, permute_hash, 5, target_range)"
   ]
  },
  {
   "cell_type": "code",
   "execution_count": 19,
   "metadata": {
    "collapsed": false
   },
   "outputs": [
    {
     "name": "stdout",
     "output_type": "stream",
     "text": [
      "Obtaining initial shingles\n",
      "Computing minhash\n"
     ]
    },
    {
     "data": {
      "text/plain": [
       "array([[  3.,   3.,   1.,   2.,  24.],\n",
       "       [  5.,   5.,   1.,   3.,  11.],\n",
       "       [  7.,   7.,   1.,   4.,  27.],\n",
       "       [  9.,   9.,   1.,   5.,  21.],\n",
       "       [  1.,  11.,   1.,   1.,  46.]])"
      ]
     },
     "execution_count": 19,
     "metadata": {},
     "output_type": "execute_result"
    }
   ],
   "source": [
    "print(\"Obtaining initial shingles\")\n",
    "target_range = 320000\n",
    "k=4\n",
    "kshingles = [k_hash_shingles(gutenberg.raw(f), k,\n",
    "                            my_hash,\n",
    "                            target_range) \n",
    "             for f in gutenberg.fileids()[:5]]\n",
    "print(\"Computing minhash\")\n",
    "minhash(kshingles, permute_hash, 5, target_range)"
   ]
  },
  {
   "cell_type": "code",
   "execution_count": 20,
   "metadata": {
    "collapsed": false
   },
   "outputs": [
    {
     "name": "stdout",
     "output_type": "stream",
     "text": [
      "Obtaining initial shingles\n",
      "Computing minhash\n"
     ]
    },
    {
     "data": {
      "text/plain": [
       "array([[ 2198.,  2198.,   180.,   180.,  3477.],\n",
       "       [   25.,  4395.,   359.,    25.,  6953.],\n",
       "       [  561.,   561.,   538.,   189.,   561.],\n",
       "       [   49.,  2765.,   717.,    49.,  6505.],\n",
       "       [  511.,   511.,   896.,   896.,  5156.]])"
      ]
     },
     "execution_count": 20,
     "metadata": {},
     "output_type": "execute_result"
    }
   ],
   "source": [
    "print(\"Obtaining initial shingles\")\n",
    "target_range = 32000000\n",
    "k=4\n",
    "kshingles = [k_hash_shingles(gutenberg.raw(f), k, \n",
    "                            my_hash,\n",
    "                            target_range) \n",
    "             for f in gutenberg.fileids()[:5]]\n",
    "print(\"Computing minhash\")\n",
    "minhash(kshingles, permute_hash, 5, target_range)"
   ]
  },
  {
   "cell_type": "markdown",
   "metadata": {},
   "source": [
    "### Exercise:\n",
    "\n",
    "Given the following artificially constructed list of sets, compute the pairwise Jaccard similarities."
   ]
  },
  {
   "cell_type": "code",
   "execution_count": null,
   "metadata": {
    "collapsed": false
   },
   "outputs": [],
   "source": []
  },
  {
   "cell_type": "markdown",
   "metadata": {},
   "source": [
    "Now, compute the pairwise Jaccard similarities after calculating the signature matrix using the following code. Compare the results."
   ]
  },
  {
   "cell_type": "code",
   "execution_count": 21,
   "metadata": {
    "collapsed": false
   },
   "outputs": [
    {
     "data": {
      "text/plain": [
       "array([[ 1.,  3.,  0.,  1.],\n",
       "       [ 0.,  2.,  0.,  0.]])"
      ]
     },
     "execution_count": 21,
     "metadata": {},
     "output_type": "execute_result"
    }
   ],
   "source": [
    "def simple_permute_hash(x, index, target_range):\n",
    "    if index == 0:\n",
    "        return (x + 1) % target_range\n",
    "    else:\n",
    "        return (3*x + 1) % target_range\n",
    "kshingles = [{0, 3}, {2}, {1, 3, 4}, {0, 2, 3}]\n",
    "sig = minhash(kshingles, simple_permute_hash, 2, 5)\n",
    "sig"
   ]
  },
  {
   "cell_type": "code",
   "execution_count": null,
   "metadata": {
    "collapsed": false
   },
   "outputs": [],
   "source": []
  },
  {
   "cell_type": "markdown",
   "metadata": {},
   "source": [
    "You will observe that the results are different. Repeat the exercise, now using the first 5 documents of the Gutenberg corpus. What would be a reasonable number of rows of the signature matrix, and a reasonable target range of the hash function, so that the results are fairly accurate and yet the size of the signature matrix is not too large?"
   ]
  },
  {
   "cell_type": "code",
   "execution_count": null,
   "metadata": {
    "collapsed": true
   },
   "outputs": [],
   "source": []
  },
  {
   "cell_type": "markdown",
   "metadata": {
    "collapsed": true
   },
   "source": [
    "## MapReduce\n",
    "\n",
    "As an optional exercise, write and execute MapReduce code that could be used to find the pairs of documents with jaccard similarity above a given threshold $t$."
   ]
  },
  {
   "cell_type": "code",
   "execution_count": null,
   "metadata": {
    "collapsed": true
   },
   "outputs": [],
   "source": []
  }
 ],
 "metadata": {
  "anaconda-cloud": {},
  "kernelspec": {
   "display_name": "Python 3",
   "language": "python",
   "name": "python3"
  },
  "language_info": {
   "codemirror_mode": {
    "name": "ipython",
    "version": 3
   },
   "file_extension": ".py",
   "mimetype": "text/x-python",
   "name": "python",
   "nbconvert_exporter": "python",
   "pygments_lexer": "ipython3",
   "version": "3.6.0"
  }
 },
 "nbformat": 4,
 "nbformat_minor": 0
}
