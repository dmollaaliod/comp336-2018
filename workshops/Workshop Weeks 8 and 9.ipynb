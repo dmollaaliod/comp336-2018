{
 "cells": [
  {
   "cell_type": "markdown",
   "metadata": {},
   "source": [
    "# Workshop Weeks 8 and 9\n",
    "The workshop exercises for this session will not be very extensive so that you have time to review assignment 2."
   ]
  },
  {
   "cell_type": "markdown",
   "metadata": {},
   "source": [
    "# Bloom Filter\n",
    "The following code reads all the words from the Brown corpus and stores them in a list. You can see that the list contains over 1 million words."
   ]
  },
  {
   "cell_type": "code",
   "execution_count": 1,
   "metadata": {
    "collapsed": false
   },
   "outputs": [
    {
     "name": "stdout",
     "output_type": "stream",
     "text": [
      "[nltk_data] Downloading package brown to /Users/diego/nltk_data...\n",
      "[nltk_data]   Package brown is already up-to-date!\n"
     ]
    },
    {
     "data": {
      "text/plain": [
       "1161192"
      ]
     },
     "execution_count": 1,
     "metadata": {},
     "output_type": "execute_result"
    }
   ],
   "source": [
    "import nltk\n",
    "nltk.download('brown')\n",
    "brown_words = nltk.corpus.brown.words()\n",
    "len(brown_words)"
   ]
  },
  {
   "cell_type": "markdown",
   "metadata": {},
   "source": [
    "Fill the following code that implements a class BloomFilter. The class has two methods: `build_filter` will build the filter based on the list of words provided, and `run_filter` will test whether a new word is in the filter.\n",
    "\n",
    "You can re-use the code provided in the lecture notebook of week 8."
   ]
  },
  {
   "cell_type": "code",
   "execution_count": 2,
   "metadata": {
    "collapsed": true
   },
   "outputs": [],
   "source": [
    "import numpy as np\n",
    "class BloomFilter:\n",
    "    def __init__(self, k=10, nbuckets=1000):\n",
    "        self.K = k\n",
    "        self.NBUCKETS = nbuckets\n",
    "        \n",
    "    def build_filter(self, word_list):\n",
    "        \"Build the Bloom filter using the word list\"\n",
    "        # Write your code here and remove the statement below\n",
    "        pass\n",
    "                \n",
    "    def run_filter(self, word):\n",
    "        \"Return True if the word is in the filter\"\n",
    "        # Write your code here and remove the statement below\n",
    "        return True"
   ]
  },
  {
   "cell_type": "markdown",
   "metadata": {},
   "source": [
    "Test that there are no false negatives using the following code. The Bloom filter will use 10 hash functions with 100000 buckets."
   ]
  },
  {
   "cell_type": "code",
   "execution_count": 3,
   "metadata": {
    "collapsed": true
   },
   "outputs": [],
   "source": [
    "bloom_filter = BloomFilter(k=10, nbuckets=100000)"
   ]
  },
  {
   "cell_type": "code",
   "execution_count": 4,
   "metadata": {
    "collapsed": false
   },
   "outputs": [],
   "source": [
    "bloom_filter.build_filter(brown_words[:100000])"
   ]
  },
  {
   "cell_type": "code",
   "execution_count": 5,
   "metadata": {
    "collapsed": false
   },
   "outputs": [
    {
     "data": {
      "text/plain": [
       "14361"
      ]
     },
     "execution_count": 5,
     "metadata": {},
     "output_type": "execute_result"
    }
   ],
   "source": [
    "filter_words = set(brown_words[:100000])\n",
    "len(filter_words)"
   ]
  },
  {
   "cell_type": "code",
   "execution_count": 6,
   "metadata": {
    "collapsed": false
   },
   "outputs": [
    {
     "name": "stdout",
     "output_type": "stream",
     "text": [
      "There are 0 false negatives\n"
     ]
    }
   ],
   "source": [
    "false_negatives = 0\n",
    "for w in filter_words:\n",
    "    if not bloom_filter.run_filter(w):\n",
    "        false_negatives += 1\n",
    "print(\"There are %i false negatives\" % false_negatives)"
   ]
  },
  {
   "cell_type": "markdown",
   "metadata": {},
   "source": [
    "The following code gathers all words from the Brown corpus that should not be in the Bloom filter. We will use them to compute the false positives."
   ]
  },
  {
   "cell_type": "code",
   "execution_count": 7,
   "metadata": {
    "collapsed": false
   },
   "outputs": [
    {
     "data": {
      "text/plain": [
       "41696"
      ]
     },
     "execution_count": 7,
     "metadata": {},
     "output_type": "execute_result"
    }
   ],
   "source": [
    "not_filter_words = set(brown_words[100000:]) - filter_words\n",
    "len(not_filter_words)"
   ]
  },
  {
   "cell_type": "markdown",
   "metadata": {},
   "source": [
    "Compute the number of false positives using the following code."
   ]
  },
  {
   "cell_type": "code",
   "execution_count": 8,
   "metadata": {
    "collapsed": false
   },
   "outputs": [
    {
     "name": "stdout",
     "output_type": "stream",
     "text": [
      "There are 22652 false positives\n"
     ]
    }
   ],
   "source": [
    "false_positives = 0\n",
    "for w in not_filter_words:\n",
    "    if bloom_filter.run_filter(w):\n",
    "        false_positives += 1\n",
    "print(\"There are %i false positives\" % false_positives)"
   ]
  },
  {
   "cell_type": "markdown",
   "metadata": {},
   "source": [
    "You will probably observe that the filter has many false positives. This is because the internal bit array is not very sparse (the percentage of entries with a `False` value is relatively small). The following code checks this."
   ]
  },
  {
   "cell_type": "code",
   "execution_count": 9,
   "metadata": {
    "collapsed": false
   },
   "outputs": [
    {
     "name": "stdout",
     "output_type": "stream",
     "text": [
      "Percentage of zeroes: 23.936000\n"
     ]
    }
   ],
   "source": [
    "zeroes = 0\n",
    "for i in range(bloom_filter.NBUCKETS):\n",
    "    zeroes += bloom_filter.hash_filter[i] == False\n",
    "print(\"Percentage of zeroes: %f\" % (zeroes * 100 / bloom_filter.NBUCKETS))"
   ]
  },
  {
   "cell_type": "markdown",
   "metadata": {},
   "source": [
    "Experiment with several values of K and NBUCKETS and check the sparseness of the internal array, the number of false positives, and the number of false negatives. The number of false negatives should always be zero."
   ]
  },
  {
   "cell_type": "code",
   "execution_count": null,
   "metadata": {
    "collapsed": true
   },
   "outputs": [],
   "source": []
  },
  {
   "cell_type": "markdown",
   "metadata": {},
   "source": [
    "# PageRank\n",
    "The following code generates the transition matrix of a hypothetical network. It takes as a parameters the number of nodes, and the degree of sparsity. Study the code and check if you understand it."
   ]
  },
  {
   "cell_type": "code",
   "execution_count": 10,
   "metadata": {
    "collapsed": true
   },
   "outputs": [],
   "source": [
    "def generate_network(n, sparsity):\n",
    "    \"Return a transition matrix with n nodes\"\n",
    "    # Fill the matrix\n",
    "    result = np.zeros((n,n))\n",
    "    for i in range(int(n*n - n*n*sparsity)):\n",
    "        x = np.random.randint(n)\n",
    "        y = np.random.randint(n)\n",
    "        result[x,y] = 1\n",
    "        \n",
    "    # Normalise the results\n",
    "    for c in range(n):\n",
    "        degree = np.sum(result[:, c])\n",
    "        if degree > 0:\n",
    "            result[:, c] /= degree\n",
    "    return result"
   ]
  },
  {
   "cell_type": "code",
   "execution_count": 11,
   "metadata": {
    "collapsed": false
   },
   "outputs": [
    {
     "data": {
      "text/plain": [
       "array([[ 0.33333333,  0.        ,  0.        ,  1.        ,  0.        ],\n",
       "       [ 0.33333333,  0.        ,  0.        ,  0.        ,  0.        ],\n",
       "       [ 0.33333333,  0.        ,  0.        ,  0.        ,  1.        ],\n",
       "       [ 0.        ,  1.        ,  0.        ,  0.        ,  0.        ],\n",
       "       [ 0.        ,  0.        ,  0.        ,  0.        ,  0.        ]])"
      ]
     },
     "execution_count": 11,
     "metadata": {},
     "output_type": "execute_result"
    }
   ],
   "source": [
    "generate_network(5,0.7)"
   ]
  },
  {
   "cell_type": "markdown",
   "metadata": {},
   "source": [
    "Use the above code to generate a network with 10 nodes and sparsity 0.8. Then, use the code in the lecture notebook of week 9 to compute the PageRank with teleporting of the nodes. As an optional exercise, implement mechanisms to handle dead ends."
   ]
  },
  {
   "cell_type": "code",
   "execution_count": null,
   "metadata": {
    "collapsed": true
   },
   "outputs": [],
   "source": []
  }
 ],
 "metadata": {
  "kernelspec": {
   "display_name": "Python 3",
   "language": "python",
   "name": "python3"
  },
  "language_info": {
   "codemirror_mode": {
    "name": "ipython",
    "version": 3
   },
   "file_extension": ".py",
   "mimetype": "text/x-python",
   "name": "python",
   "nbconvert_exporter": "python",
   "pygments_lexer": "ipython3",
   "version": "3.6.0"
  }
 },
 "nbformat": 4,
 "nbformat_minor": 2
}
